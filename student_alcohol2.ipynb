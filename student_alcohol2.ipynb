{
 "cells": [
  {
   "cell_type": "code",
   "execution_count": 5,
   "metadata": {
    "collapsed": false
   },
   "outputs": [],
   "source": [
    "import pandas as pd\n",
    "import numpy as np\n",
    "import matplotlib.pyplot as plt\n",
    "import matplotlib as mpl\n",
    "%matplotlib inline\n",
    "import pylab as pl\n",
    "import csv as csv"
   ]
  },
  {
   "cell_type": "code",
   "execution_count": 6,
   "metadata": {
    "collapsed": true
   },
   "outputs": [],
   "source": [
    "df=pd.read_csv(\"C:\\Users\\harris\\Documents\\Maria's folder\\DBS\\Data_Web_Mining\\datasets\\CA1\\student_alcohol.csv\")"
   ]
  },
  {
   "cell_type": "code",
   "execution_count": 7,
   "metadata": {
    "collapsed": false
   },
   "outputs": [
    {
     "name": "stdout",
     "output_type": "stream",
     "text": [
      "<class 'pandas.core.frame.DataFrame'>\n",
      "RangeIndex: 1044 entries, 0 to 1043\n",
      "Data columns (total 33 columns):\n",
      "school        1044 non-null object\n",
      "sex           1044 non-null object\n",
      "age           1044 non-null int64\n",
      "address       1044 non-null object\n",
      "famsize       1044 non-null object\n",
      "Pstatus       1044 non-null object\n",
      "Medu          1044 non-null int64\n",
      "Fedu          1044 non-null int64\n",
      "Mjob          1044 non-null object\n",
      "Fjob          1044 non-null object\n",
      "reason        1044 non-null object\n",
      "guardian      1044 non-null object\n",
      "traveltime    1044 non-null int64\n",
      "studytime     1044 non-null int64\n",
      "failures      1044 non-null int64\n",
      "schoolsup     1044 non-null object\n",
      "famsup        1044 non-null object\n",
      "paid          1044 non-null object\n",
      "activities    1044 non-null object\n",
      "nursery       1044 non-null object\n",
      "higher        1044 non-null object\n",
      "internet      1044 non-null object\n",
      "romantic      1044 non-null object\n",
      "famrel        1044 non-null int64\n",
      "freetime      1044 non-null int64\n",
      "goout         1044 non-null int64\n",
      "Dalc          1044 non-null int64\n",
      "Walc          1044 non-null int64\n",
      "health        1044 non-null int64\n",
      "absences      1044 non-null int64\n",
      "G1            1044 non-null int64\n",
      "G2            1044 non-null int64\n",
      "G3            1044 non-null int64\n",
      "dtypes: int64(16), object(17)\n",
      "memory usage: 269.2+ KB\n"
     ]
    }
   ],
   "source": [
    "df.info()"
   ]
  },
  {
   "cell_type": "code",
   "execution_count": 8,
   "metadata": {
    "collapsed": false
   },
   "outputs": [
    {
     "data": {
      "text/html": [
       "<div>\n",
       "<table border=\"1\" class=\"dataframe\">\n",
       "  <thead>\n",
       "    <tr style=\"text-align: right;\">\n",
       "      <th></th>\n",
       "      <th>age</th>\n",
       "      <th>Medu</th>\n",
       "      <th>Fedu</th>\n",
       "      <th>traveltime</th>\n",
       "      <th>studytime</th>\n",
       "      <th>failures</th>\n",
       "      <th>famrel</th>\n",
       "      <th>freetime</th>\n",
       "      <th>goout</th>\n",
       "      <th>Dalc</th>\n",
       "      <th>Walc</th>\n",
       "      <th>health</th>\n",
       "      <th>absences</th>\n",
       "      <th>G1</th>\n",
       "      <th>G2</th>\n",
       "      <th>G3</th>\n",
       "    </tr>\n",
       "  </thead>\n",
       "  <tbody>\n",
       "    <tr>\n",
       "      <th>count</th>\n",
       "      <td>1044.000000</td>\n",
       "      <td>1044.000000</td>\n",
       "      <td>1044.000000</td>\n",
       "      <td>1044.000000</td>\n",
       "      <td>1044.000000</td>\n",
       "      <td>1044.000000</td>\n",
       "      <td>1044.000000</td>\n",
       "      <td>1044.000000</td>\n",
       "      <td>1044.000000</td>\n",
       "      <td>1044.000000</td>\n",
       "      <td>1044.000000</td>\n",
       "      <td>1044.000000</td>\n",
       "      <td>1044.000000</td>\n",
       "      <td>1044.000000</td>\n",
       "      <td>1044.000000</td>\n",
       "      <td>1044.000000</td>\n",
       "    </tr>\n",
       "    <tr>\n",
       "      <th>mean</th>\n",
       "      <td>16.726054</td>\n",
       "      <td>2.603448</td>\n",
       "      <td>2.387931</td>\n",
       "      <td>1.522989</td>\n",
       "      <td>1.970307</td>\n",
       "      <td>0.264368</td>\n",
       "      <td>3.935824</td>\n",
       "      <td>3.201149</td>\n",
       "      <td>3.156130</td>\n",
       "      <td>1.494253</td>\n",
       "      <td>2.284483</td>\n",
       "      <td>3.543103</td>\n",
       "      <td>4.434866</td>\n",
       "      <td>11.213602</td>\n",
       "      <td>11.246169</td>\n",
       "      <td>11.341954</td>\n",
       "    </tr>\n",
       "    <tr>\n",
       "      <th>std</th>\n",
       "      <td>1.239975</td>\n",
       "      <td>1.124907</td>\n",
       "      <td>1.099938</td>\n",
       "      <td>0.731727</td>\n",
       "      <td>0.834353</td>\n",
       "      <td>0.656142</td>\n",
       "      <td>0.933401</td>\n",
       "      <td>1.031507</td>\n",
       "      <td>1.152575</td>\n",
       "      <td>0.911714</td>\n",
       "      <td>1.285105</td>\n",
       "      <td>1.424703</td>\n",
       "      <td>6.210017</td>\n",
       "      <td>2.983394</td>\n",
       "      <td>3.285071</td>\n",
       "      <td>3.864796</td>\n",
       "    </tr>\n",
       "    <tr>\n",
       "      <th>min</th>\n",
       "      <td>15.000000</td>\n",
       "      <td>0.000000</td>\n",
       "      <td>0.000000</td>\n",
       "      <td>1.000000</td>\n",
       "      <td>1.000000</td>\n",
       "      <td>0.000000</td>\n",
       "      <td>1.000000</td>\n",
       "      <td>1.000000</td>\n",
       "      <td>1.000000</td>\n",
       "      <td>1.000000</td>\n",
       "      <td>1.000000</td>\n",
       "      <td>1.000000</td>\n",
       "      <td>0.000000</td>\n",
       "      <td>0.000000</td>\n",
       "      <td>0.000000</td>\n",
       "      <td>0.000000</td>\n",
       "    </tr>\n",
       "    <tr>\n",
       "      <th>25%</th>\n",
       "      <td>16.000000</td>\n",
       "      <td>2.000000</td>\n",
       "      <td>1.000000</td>\n",
       "      <td>1.000000</td>\n",
       "      <td>1.000000</td>\n",
       "      <td>0.000000</td>\n",
       "      <td>4.000000</td>\n",
       "      <td>3.000000</td>\n",
       "      <td>2.000000</td>\n",
       "      <td>1.000000</td>\n",
       "      <td>1.000000</td>\n",
       "      <td>3.000000</td>\n",
       "      <td>0.000000</td>\n",
       "      <td>9.000000</td>\n",
       "      <td>9.000000</td>\n",
       "      <td>10.000000</td>\n",
       "    </tr>\n",
       "    <tr>\n",
       "      <th>50%</th>\n",
       "      <td>17.000000</td>\n",
       "      <td>3.000000</td>\n",
       "      <td>2.000000</td>\n",
       "      <td>1.000000</td>\n",
       "      <td>2.000000</td>\n",
       "      <td>0.000000</td>\n",
       "      <td>4.000000</td>\n",
       "      <td>3.000000</td>\n",
       "      <td>3.000000</td>\n",
       "      <td>1.000000</td>\n",
       "      <td>2.000000</td>\n",
       "      <td>4.000000</td>\n",
       "      <td>2.000000</td>\n",
       "      <td>11.000000</td>\n",
       "      <td>11.000000</td>\n",
       "      <td>11.000000</td>\n",
       "    </tr>\n",
       "    <tr>\n",
       "      <th>75%</th>\n",
       "      <td>18.000000</td>\n",
       "      <td>4.000000</td>\n",
       "      <td>3.000000</td>\n",
       "      <td>2.000000</td>\n",
       "      <td>2.000000</td>\n",
       "      <td>0.000000</td>\n",
       "      <td>5.000000</td>\n",
       "      <td>4.000000</td>\n",
       "      <td>4.000000</td>\n",
       "      <td>2.000000</td>\n",
       "      <td>3.000000</td>\n",
       "      <td>5.000000</td>\n",
       "      <td>6.000000</td>\n",
       "      <td>13.000000</td>\n",
       "      <td>13.000000</td>\n",
       "      <td>14.000000</td>\n",
       "    </tr>\n",
       "    <tr>\n",
       "      <th>max</th>\n",
       "      <td>22.000000</td>\n",
       "      <td>4.000000</td>\n",
       "      <td>4.000000</td>\n",
       "      <td>4.000000</td>\n",
       "      <td>4.000000</td>\n",
       "      <td>3.000000</td>\n",
       "      <td>5.000000</td>\n",
       "      <td>5.000000</td>\n",
       "      <td>5.000000</td>\n",
       "      <td>5.000000</td>\n",
       "      <td>5.000000</td>\n",
       "      <td>5.000000</td>\n",
       "      <td>75.000000</td>\n",
       "      <td>19.000000</td>\n",
       "      <td>19.000000</td>\n",
       "      <td>20.000000</td>\n",
       "    </tr>\n",
       "  </tbody>\n",
       "</table>\n",
       "</div>"
      ],
      "text/plain": [
       "               age         Medu         Fedu   traveltime    studytime  \\\n",
       "count  1044.000000  1044.000000  1044.000000  1044.000000  1044.000000   \n",
       "mean     16.726054     2.603448     2.387931     1.522989     1.970307   \n",
       "std       1.239975     1.124907     1.099938     0.731727     0.834353   \n",
       "min      15.000000     0.000000     0.000000     1.000000     1.000000   \n",
       "25%      16.000000     2.000000     1.000000     1.000000     1.000000   \n",
       "50%      17.000000     3.000000     2.000000     1.000000     2.000000   \n",
       "75%      18.000000     4.000000     3.000000     2.000000     2.000000   \n",
       "max      22.000000     4.000000     4.000000     4.000000     4.000000   \n",
       "\n",
       "          failures       famrel     freetime        goout         Dalc  \\\n",
       "count  1044.000000  1044.000000  1044.000000  1044.000000  1044.000000   \n",
       "mean      0.264368     3.935824     3.201149     3.156130     1.494253   \n",
       "std       0.656142     0.933401     1.031507     1.152575     0.911714   \n",
       "min       0.000000     1.000000     1.000000     1.000000     1.000000   \n",
       "25%       0.000000     4.000000     3.000000     2.000000     1.000000   \n",
       "50%       0.000000     4.000000     3.000000     3.000000     1.000000   \n",
       "75%       0.000000     5.000000     4.000000     4.000000     2.000000   \n",
       "max       3.000000     5.000000     5.000000     5.000000     5.000000   \n",
       "\n",
       "              Walc       health     absences           G1           G2  \\\n",
       "count  1044.000000  1044.000000  1044.000000  1044.000000  1044.000000   \n",
       "mean      2.284483     3.543103     4.434866    11.213602    11.246169   \n",
       "std       1.285105     1.424703     6.210017     2.983394     3.285071   \n",
       "min       1.000000     1.000000     0.000000     0.000000     0.000000   \n",
       "25%       1.000000     3.000000     0.000000     9.000000     9.000000   \n",
       "50%       2.000000     4.000000     2.000000    11.000000    11.000000   \n",
       "75%       3.000000     5.000000     6.000000    13.000000    13.000000   \n",
       "max       5.000000     5.000000    75.000000    19.000000    19.000000   \n",
       "\n",
       "                G3  \n",
       "count  1044.000000  \n",
       "mean     11.341954  \n",
       "std       3.864796  \n",
       "min       0.000000  \n",
       "25%      10.000000  \n",
       "50%      11.000000  \n",
       "75%      14.000000  \n",
       "max      20.000000  "
      ]
     },
     "execution_count": 8,
     "metadata": {},
     "output_type": "execute_result"
    }
   ],
   "source": [
    "df.describe()"
   ]
  },
  {
   "cell_type": "code",
   "execution_count": 9,
   "metadata": {
    "collapsed": false
   },
   "outputs": [
    {
     "data": {
      "text/html": [
       "<div>\n",
       "<table border=\"1\" class=\"dataframe\">\n",
       "  <thead>\n",
       "    <tr style=\"text-align: right;\">\n",
       "      <th></th>\n",
       "      <th>school</th>\n",
       "      <th>sex</th>\n",
       "      <th>age</th>\n",
       "      <th>address</th>\n",
       "      <th>famsize</th>\n",
       "      <th>Pstatus</th>\n",
       "      <th>Medu</th>\n",
       "      <th>Fedu</th>\n",
       "      <th>Mjob</th>\n",
       "      <th>Fjob</th>\n",
       "      <th>...</th>\n",
       "      <th>famrel</th>\n",
       "      <th>freetime</th>\n",
       "      <th>goout</th>\n",
       "      <th>Dalc</th>\n",
       "      <th>Walc</th>\n",
       "      <th>health</th>\n",
       "      <th>absences</th>\n",
       "      <th>G1</th>\n",
       "      <th>G2</th>\n",
       "      <th>G3</th>\n",
       "    </tr>\n",
       "  </thead>\n",
       "  <tbody>\n",
       "    <tr>\n",
       "      <th>0</th>\n",
       "      <td>GP</td>\n",
       "      <td>F</td>\n",
       "      <td>18</td>\n",
       "      <td>U</td>\n",
       "      <td>GT3</td>\n",
       "      <td>A</td>\n",
       "      <td>4</td>\n",
       "      <td>4</td>\n",
       "      <td>at_home</td>\n",
       "      <td>teacher</td>\n",
       "      <td>...</td>\n",
       "      <td>4</td>\n",
       "      <td>3</td>\n",
       "      <td>4</td>\n",
       "      <td>1</td>\n",
       "      <td>1</td>\n",
       "      <td>3</td>\n",
       "      <td>6</td>\n",
       "      <td>5</td>\n",
       "      <td>6</td>\n",
       "      <td>6</td>\n",
       "    </tr>\n",
       "    <tr>\n",
       "      <th>1</th>\n",
       "      <td>GP</td>\n",
       "      <td>F</td>\n",
       "      <td>17</td>\n",
       "      <td>U</td>\n",
       "      <td>GT3</td>\n",
       "      <td>T</td>\n",
       "      <td>1</td>\n",
       "      <td>1</td>\n",
       "      <td>at_home</td>\n",
       "      <td>other</td>\n",
       "      <td>...</td>\n",
       "      <td>5</td>\n",
       "      <td>3</td>\n",
       "      <td>3</td>\n",
       "      <td>1</td>\n",
       "      <td>1</td>\n",
       "      <td>3</td>\n",
       "      <td>4</td>\n",
       "      <td>5</td>\n",
       "      <td>5</td>\n",
       "      <td>6</td>\n",
       "    </tr>\n",
       "    <tr>\n",
       "      <th>2</th>\n",
       "      <td>GP</td>\n",
       "      <td>F</td>\n",
       "      <td>15</td>\n",
       "      <td>U</td>\n",
       "      <td>LE3</td>\n",
       "      <td>T</td>\n",
       "      <td>1</td>\n",
       "      <td>1</td>\n",
       "      <td>at_home</td>\n",
       "      <td>other</td>\n",
       "      <td>...</td>\n",
       "      <td>4</td>\n",
       "      <td>3</td>\n",
       "      <td>2</td>\n",
       "      <td>2</td>\n",
       "      <td>3</td>\n",
       "      <td>3</td>\n",
       "      <td>10</td>\n",
       "      <td>7</td>\n",
       "      <td>8</td>\n",
       "      <td>10</td>\n",
       "    </tr>\n",
       "    <tr>\n",
       "      <th>3</th>\n",
       "      <td>GP</td>\n",
       "      <td>F</td>\n",
       "      <td>15</td>\n",
       "      <td>U</td>\n",
       "      <td>GT3</td>\n",
       "      <td>T</td>\n",
       "      <td>4</td>\n",
       "      <td>2</td>\n",
       "      <td>health</td>\n",
       "      <td>services</td>\n",
       "      <td>...</td>\n",
       "      <td>3</td>\n",
       "      <td>2</td>\n",
       "      <td>2</td>\n",
       "      <td>1</td>\n",
       "      <td>1</td>\n",
       "      <td>5</td>\n",
       "      <td>2</td>\n",
       "      <td>15</td>\n",
       "      <td>14</td>\n",
       "      <td>15</td>\n",
       "    </tr>\n",
       "    <tr>\n",
       "      <th>4</th>\n",
       "      <td>GP</td>\n",
       "      <td>F</td>\n",
       "      <td>16</td>\n",
       "      <td>U</td>\n",
       "      <td>GT3</td>\n",
       "      <td>T</td>\n",
       "      <td>3</td>\n",
       "      <td>3</td>\n",
       "      <td>other</td>\n",
       "      <td>other</td>\n",
       "      <td>...</td>\n",
       "      <td>4</td>\n",
       "      <td>3</td>\n",
       "      <td>2</td>\n",
       "      <td>1</td>\n",
       "      <td>2</td>\n",
       "      <td>5</td>\n",
       "      <td>4</td>\n",
       "      <td>6</td>\n",
       "      <td>10</td>\n",
       "      <td>10</td>\n",
       "    </tr>\n",
       "    <tr>\n",
       "      <th>5</th>\n",
       "      <td>GP</td>\n",
       "      <td>M</td>\n",
       "      <td>16</td>\n",
       "      <td>U</td>\n",
       "      <td>LE3</td>\n",
       "      <td>T</td>\n",
       "      <td>4</td>\n",
       "      <td>3</td>\n",
       "      <td>services</td>\n",
       "      <td>other</td>\n",
       "      <td>...</td>\n",
       "      <td>5</td>\n",
       "      <td>4</td>\n",
       "      <td>2</td>\n",
       "      <td>1</td>\n",
       "      <td>2</td>\n",
       "      <td>5</td>\n",
       "      <td>10</td>\n",
       "      <td>15</td>\n",
       "      <td>15</td>\n",
       "      <td>15</td>\n",
       "    </tr>\n",
       "    <tr>\n",
       "      <th>6</th>\n",
       "      <td>GP</td>\n",
       "      <td>M</td>\n",
       "      <td>16</td>\n",
       "      <td>U</td>\n",
       "      <td>LE3</td>\n",
       "      <td>T</td>\n",
       "      <td>2</td>\n",
       "      <td>2</td>\n",
       "      <td>other</td>\n",
       "      <td>other</td>\n",
       "      <td>...</td>\n",
       "      <td>4</td>\n",
       "      <td>4</td>\n",
       "      <td>4</td>\n",
       "      <td>1</td>\n",
       "      <td>1</td>\n",
       "      <td>3</td>\n",
       "      <td>0</td>\n",
       "      <td>12</td>\n",
       "      <td>12</td>\n",
       "      <td>11</td>\n",
       "    </tr>\n",
       "    <tr>\n",
       "      <th>7</th>\n",
       "      <td>GP</td>\n",
       "      <td>F</td>\n",
       "      <td>17</td>\n",
       "      <td>U</td>\n",
       "      <td>GT3</td>\n",
       "      <td>A</td>\n",
       "      <td>4</td>\n",
       "      <td>4</td>\n",
       "      <td>other</td>\n",
       "      <td>teacher</td>\n",
       "      <td>...</td>\n",
       "      <td>4</td>\n",
       "      <td>1</td>\n",
       "      <td>4</td>\n",
       "      <td>1</td>\n",
       "      <td>1</td>\n",
       "      <td>1</td>\n",
       "      <td>6</td>\n",
       "      <td>6</td>\n",
       "      <td>5</td>\n",
       "      <td>6</td>\n",
       "    </tr>\n",
       "    <tr>\n",
       "      <th>8</th>\n",
       "      <td>GP</td>\n",
       "      <td>M</td>\n",
       "      <td>15</td>\n",
       "      <td>U</td>\n",
       "      <td>LE3</td>\n",
       "      <td>A</td>\n",
       "      <td>3</td>\n",
       "      <td>2</td>\n",
       "      <td>services</td>\n",
       "      <td>other</td>\n",
       "      <td>...</td>\n",
       "      <td>4</td>\n",
       "      <td>2</td>\n",
       "      <td>2</td>\n",
       "      <td>1</td>\n",
       "      <td>1</td>\n",
       "      <td>1</td>\n",
       "      <td>0</td>\n",
       "      <td>16</td>\n",
       "      <td>18</td>\n",
       "      <td>19</td>\n",
       "    </tr>\n",
       "    <tr>\n",
       "      <th>9</th>\n",
       "      <td>GP</td>\n",
       "      <td>M</td>\n",
       "      <td>15</td>\n",
       "      <td>U</td>\n",
       "      <td>GT3</td>\n",
       "      <td>T</td>\n",
       "      <td>3</td>\n",
       "      <td>4</td>\n",
       "      <td>other</td>\n",
       "      <td>other</td>\n",
       "      <td>...</td>\n",
       "      <td>5</td>\n",
       "      <td>5</td>\n",
       "      <td>1</td>\n",
       "      <td>1</td>\n",
       "      <td>1</td>\n",
       "      <td>5</td>\n",
       "      <td>0</td>\n",
       "      <td>14</td>\n",
       "      <td>15</td>\n",
       "      <td>15</td>\n",
       "    </tr>\n",
       "  </tbody>\n",
       "</table>\n",
       "<p>10 rows × 33 columns</p>\n",
       "</div>"
      ],
      "text/plain": [
       "  school  sex  age address famsize Pstatus  Medu  Fedu        Mjob  \\\n",
       "0     GP   F    18      U     GT3       A      4     4    at_home    \n",
       "1     GP   F    17      U     GT3       T      1     1    at_home    \n",
       "2     GP   F    15      U     LE3       T      1     1    at_home    \n",
       "3     GP   F    15      U     GT3       T      4     2     health    \n",
       "4     GP   F    16      U     GT3       T      3     3      other    \n",
       "5     GP   M    16      U     LE3       T      4     3   services    \n",
       "6     GP   M    16      U     LE3       T      2     2      other    \n",
       "7     GP   F    17      U     GT3       A      4     4      other    \n",
       "8     GP   M    15      U     LE3       A      3     2   services    \n",
       "9     GP   M    15      U     GT3       T      3     4      other    \n",
       "\n",
       "         Fjob ... famrel freetime  goout  Dalc  Walc health absences  G1  G2  \\\n",
       "0    teacher  ...      4        3      4     1     1      3        6   5   6   \n",
       "1      other  ...      5        3      3     1     1      3        4   5   5   \n",
       "2      other  ...      4        3      2     2     3      3       10   7   8   \n",
       "3   services  ...      3        2      2     1     1      5        2  15  14   \n",
       "4      other  ...      4        3      2     1     2      5        4   6  10   \n",
       "5      other  ...      5        4      2     1     2      5       10  15  15   \n",
       "6      other  ...      4        4      4     1     1      3        0  12  12   \n",
       "7    teacher  ...      4        1      4     1     1      1        6   6   5   \n",
       "8      other  ...      4        2      2     1     1      1        0  16  18   \n",
       "9      other  ...      5        5      1     1     1      5        0  14  15   \n",
       "\n",
       "   G3  \n",
       "0   6  \n",
       "1   6  \n",
       "2  10  \n",
       "3  15  \n",
       "4  10  \n",
       "5  15  \n",
       "6  11  \n",
       "7   6  \n",
       "8  19  \n",
       "9  15  \n",
       "\n",
       "[10 rows x 33 columns]"
      ]
     },
     "execution_count": 9,
     "metadata": {},
     "output_type": "execute_result"
    }
   ],
   "source": [
    "df.head(10)"
   ]
  },
  {
   "cell_type": "code",
   "execution_count": 10,
   "metadata": {
    "collapsed": false
   },
   "outputs": [
    {
     "data": {
      "text/plain": [
       " F     591\n",
       " M     453\n",
       "Name: sex, dtype: int64"
      ]
     },
     "execution_count": 10,
     "metadata": {},
     "output_type": "execute_result"
    }
   ],
   "source": [
    "df['sex'].value_counts()"
   ]
  },
  {
   "cell_type": "code",
   "execution_count": 11,
   "metadata": {
    "collapsed": false
   },
   "outputs": [
    {
     "data": {
      "text/plain": [
       "16    281\n",
       "17    277\n",
       "18    222\n",
       "15    194\n",
       "19     56\n",
       "20      9\n",
       "21      3\n",
       "22      2\n",
       "Name: age, dtype: int64"
      ]
     },
     "execution_count": 11,
     "metadata": {},
     "output_type": "execute_result"
    }
   ],
   "source": [
    "df['age'].value_counts()"
   ]
  },
  {
   "cell_type": "code",
   "execution_count": 12,
   "metadata": {
    "collapsed": true
   },
   "outputs": [],
   "source": [
    "#frequency table for attributes"
   ]
  },
  {
   "cell_type": "code",
   "execution_count": 13,
   "metadata": {
    "collapsed": false
   },
   "outputs": [
    {
     "data": {
      "text/plain": [
       " GP    772\n",
       " MS    272\n",
       "Name: school, dtype: int64"
      ]
     },
     "execution_count": 13,
     "metadata": {},
     "output_type": "execute_result"
    }
   ],
   "source": [
    "df['school'].value_counts()"
   ]
  },
  {
   "cell_type": "code",
   "execution_count": 14,
   "metadata": {
    "collapsed": false
   },
   "outputs": [
    {
     "data": {
      "text/plain": [
       "4    306\n",
       "2    289\n",
       "3    238\n",
       "1    202\n",
       "0      9\n",
       "Name: Medu, dtype: int64"
      ]
     },
     "execution_count": 14,
     "metadata": {},
     "output_type": "execute_result"
    }
   ],
   "source": [
    "df['Medu'].value_counts()"
   ]
  },
  {
   "cell_type": "code",
   "execution_count": 15,
   "metadata": {
    "collapsed": false
   },
   "outputs": [
    {
     "data": {
      "text/plain": [
       " other        399\n",
       " services     239\n",
       " at_home      194\n",
       " teacher      130\n",
       " health        82\n",
       "Name: Mjob, dtype: int64"
      ]
     },
     "execution_count": 15,
     "metadata": {},
     "output_type": "execute_result"
    }
   ],
   "source": [
    "df['Mjob'].value_counts()"
   ]
  },
  {
   "cell_type": "code",
   "execution_count": 16,
   "metadata": {
    "collapsed": false
   },
   "outputs": [
    {
     "data": {
      "text/plain": [
       " other        584\n",
       " services     292\n",
       " teacher       65\n",
       " at_home       62\n",
       " health        41\n",
       "Name: Fjob, dtype: int64"
      ]
     },
     "execution_count": 16,
     "metadata": {},
     "output_type": "execute_result"
    }
   ],
   "source": [
    "df['Fjob'].value_counts()"
   ]
  },
  {
   "cell_type": "code",
   "execution_count": 17,
   "metadata": {
    "collapsed": false
   },
   "outputs": [
    {
     "data": {
      "text/plain": [
       "2    503\n",
       "1    317\n",
       "3    162\n",
       "4     62\n",
       "Name: studytime, dtype: int64"
      ]
     },
     "execution_count": 17,
     "metadata": {},
     "output_type": "execute_result"
    }
   ],
   "source": [
    "df['studytime'].value_counts()"
   ]
  },
  {
   "cell_type": "code",
   "execution_count": 18,
   "metadata": {
    "collapsed": false
   },
   "outputs": [
    {
     "data": {
      "text/plain": [
       " yes     955\n",
       " no       89\n",
       "Name: higher, dtype: int64"
      ]
     },
     "execution_count": 18,
     "metadata": {},
     "output_type": "execute_result"
    }
   ],
   "source": [
    "df['higher'].value_counts()"
   ]
  },
  {
   "cell_type": "code",
   "execution_count": 19,
   "metadata": {
    "collapsed": false
   },
   "outputs": [
    {
     "data": {
      "text/plain": [
       "4    512\n",
       "5    286\n",
       "3    169\n",
       "2     47\n",
       "1     30\n",
       "Name: famrel, dtype: int64"
      ]
     },
     "execution_count": 19,
     "metadata": {},
     "output_type": "execute_result"
    }
   ],
   "source": [
    "df['famrel'].value_counts()"
   ]
  },
  {
   "cell_type": "code",
   "execution_count": 20,
   "metadata": {
    "collapsed": true
   },
   "outputs": [],
   "source": [
    "#no one rated 5 excellent family relationships"
   ]
  },
  {
   "cell_type": "code",
   "execution_count": 21,
   "metadata": {
    "collapsed": false
   },
   "outputs": [
    {
     "data": {
      "text/plain": [
       "1    727\n",
       "2    196\n",
       "3     69\n",
       "5     26\n",
       "4     26\n",
       "Name: Dalc, dtype: int64"
      ]
     },
     "execution_count": 21,
     "metadata": {},
     "output_type": "execute_result"
    }
   ],
   "source": [
    "df['Dalc'].value_counts()"
   ]
  },
  {
   "cell_type": "code",
   "execution_count": 22,
   "metadata": {
    "collapsed": true
   },
   "outputs": [],
   "source": [
    "# 26 people rated 5=very high workday alcohol consumption"
   ]
  },
  {
   "cell_type": "code",
   "execution_count": 23,
   "metadata": {
    "collapsed": false
   },
   "outputs": [
    {
     "data": {
      "text/plain": [
       "1    398\n",
       "2    235\n",
       "3    200\n",
       "4    138\n",
       "5     73\n",
       "Name: Walc, dtype: int64"
      ]
     },
     "execution_count": 23,
     "metadata": {},
     "output_type": "execute_result"
    }
   ],
   "source": [
    "df['Walc'].value_counts()"
   ]
  },
  {
   "cell_type": "code",
   "execution_count": 24,
   "metadata": {
    "collapsed": true
   },
   "outputs": [],
   "source": [
    "#73 people rated 5=very high weekend alcohol consumption"
   ]
  },
  {
   "cell_type": "code",
   "execution_count": 25,
   "metadata": {
    "collapsed": false
   },
   "outputs": [
    {
     "data": {
      "text/plain": [
       "0     359\n",
       "2     175\n",
       "4     146\n",
       "6      80\n",
       "8      64\n",
       "10     38\n",
       "12     24\n",
       "14     20\n",
       "5      17\n",
       "16     17\n",
       "1      15\n",
       "3      15\n",
       "7      10\n",
       "9      10\n",
       "18      8\n",
       "11      8\n",
       "15      5\n",
       "22      5\n",
       "20      4\n",
       "13      4\n",
       "21      3\n",
       "24      2\n",
       "26      2\n",
       "30      2\n",
       "75      1\n",
       "56      1\n",
       "19      1\n",
       "23      1\n",
       "25      1\n",
       "28      1\n",
       "32      1\n",
       "38      1\n",
       "40      1\n",
       "54      1\n",
       "17      1\n",
       "Name: absences, dtype: int64"
      ]
     },
     "execution_count": 25,
     "metadata": {},
     "output_type": "execute_result"
    }
   ],
   "source": [
    "df['absences'].value_counts()"
   ]
  },
  {
   "cell_type": "code",
   "execution_count": 26,
   "metadata": {
    "collapsed": true
   },
   "outputs": [],
   "source": [
    "#359 students had 0 absences from school\n",
    "#highest absence was 75 days and 1 person"
   ]
  },
  {
   "cell_type": "code",
   "execution_count": 27,
   "metadata": {
    "collapsed": false
   },
   "outputs": [
    {
     "data": {
      "text/html": [
       "<div>\n",
       "<table border=\"1\" class=\"dataframe\">\n",
       "  <thead>\n",
       "    <tr style=\"text-align: right;\">\n",
       "      <th>age</th>\n",
       "      <th>15</th>\n",
       "      <th>16</th>\n",
       "      <th>17</th>\n",
       "      <th>18</th>\n",
       "      <th>19</th>\n",
       "      <th>20</th>\n",
       "      <th>21</th>\n",
       "      <th>22</th>\n",
       "      <th>All</th>\n",
       "    </tr>\n",
       "    <tr>\n",
       "      <th>sex</th>\n",
       "      <th></th>\n",
       "      <th></th>\n",
       "      <th></th>\n",
       "      <th></th>\n",
       "      <th></th>\n",
       "      <th></th>\n",
       "      <th></th>\n",
       "      <th></th>\n",
       "      <th></th>\n",
       "    </tr>\n",
       "  </thead>\n",
       "  <tbody>\n",
       "    <tr>\n",
       "      <th>F</th>\n",
       "      <td>95</td>\n",
       "      <td>159</td>\n",
       "      <td>171</td>\n",
       "      <td>127</td>\n",
       "      <td>33</td>\n",
       "      <td>5</td>\n",
       "      <td>1</td>\n",
       "      <td>0</td>\n",
       "      <td>591</td>\n",
       "    </tr>\n",
       "    <tr>\n",
       "      <th>M</th>\n",
       "      <td>99</td>\n",
       "      <td>122</td>\n",
       "      <td>106</td>\n",
       "      <td>95</td>\n",
       "      <td>23</td>\n",
       "      <td>4</td>\n",
       "      <td>2</td>\n",
       "      <td>2</td>\n",
       "      <td>453</td>\n",
       "    </tr>\n",
       "    <tr>\n",
       "      <th>All</th>\n",
       "      <td>194</td>\n",
       "      <td>281</td>\n",
       "      <td>277</td>\n",
       "      <td>222</td>\n",
       "      <td>56</td>\n",
       "      <td>9</td>\n",
       "      <td>3</td>\n",
       "      <td>2</td>\n",
       "      <td>1044</td>\n",
       "    </tr>\n",
       "  </tbody>\n",
       "</table>\n",
       "</div>"
      ],
      "text/plain": [
       "age   15   16   17   18  19  20  21  22   All\n",
       "sex                                          \n",
       " F    95  159  171  127  33   5   1   0   591\n",
       " M    99  122  106   95  23   4   2   2   453\n",
       "All  194  281  277  222  56   9   3   2  1044"
      ]
     },
     "execution_count": 27,
     "metadata": {},
     "output_type": "execute_result"
    }
   ],
   "source": [
    "pd.crosstab(df[\"sex\"],df[\"age\"],margins=True)"
   ]
  },
  {
   "cell_type": "code",
   "execution_count": 28,
   "metadata": {
    "collapsed": false
   },
   "outputs": [
    {
     "data": {
      "text/plain": [
       "<matplotlib.axes._subplots.AxesSubplot at 0x9d64be0>"
      ]
     },
     "execution_count": 28,
     "metadata": {},
     "output_type": "execute_result"
    },
    {
     "data": {
      "image/png": "[encoded data removed]",
      "text/plain": [
       "<matplotlib.figure.Figure at 0x98cce48>"
      ]
     },
     "metadata": {},
     "output_type": "display_data"
    },
    {
     "data": {
      "image/png": "[encoded data removed]",
      "text/plain": [
       "<matplotlib.figure.Figure at 0x9c7f0b8>"
      ]
     },
     "metadata": {},
     "output_type": "display_data"
    }
   ],
   "source": [
    "plt.ylabel('study time in hours')\n",
    "plt.xlabel('age 15-22')\n",
    "df.boxplot(column=\"studytime\",by=\"age\")"
   ]
  },
  {
   "cell_type": "code",
   "execution_count": 29,
   "metadata": {
    "collapsed": false
   },
   "outputs": [
    {
     "data": {
      "text/plain": [
       "0     2\n",
       "1     2\n",
       "2     2\n",
       "3     3\n",
       "4     2\n",
       "5     2\n",
       "6     2\n",
       "7     2\n",
       "8     2\n",
       "9     2\n",
       "10    2\n",
       "11    3\n",
       "12    1\n",
       "13    2\n",
       "14    3\n",
       "15    1\n",
       "16    3\n",
       "17    2\n",
       "18    1\n",
       "19    1\n",
       "Name: studytime, dtype: int64"
      ]
     },
     "execution_count": 29,
     "metadata": {},
     "output_type": "execute_result"
    }
   ],
   "source": [
    "df['studytime'].head(20)"
   ]
  },
  {
   "cell_type": "code",
   "execution_count": 30,
   "metadata": {
    "collapsed": false
   },
   "outputs": [
    {
     "name": "stdout",
     "output_type": "stream",
     "text": [
      "   sex  age        Mjob        Fjob  studytime  Dalc  Walc  health\n",
      "0   F    18    at_home     teacher           2     1     1       3\n",
      "1   F    17    at_home       other           2     1     1       3\n",
      "2   F    15    at_home       other           2     2     3       3\n",
      "3   F    15     health    services           3     1     1       5\n",
      "4   F    16      other       other           2     1     2       5\n",
      "5   M    16   services       other           2     1     2       5\n",
      "6   M    16      other       other           2     1     1       3\n",
      "7   F    17      other     teacher           2     1     1       1\n",
      "8   M    15   services       other           2     1     1       1\n",
      "9   M    15      other       other           2     1     1       5\n"
     ]
    }
   ],
   "source": [
    "interesting_columns=['sex','age','Mjob','Fjob','studytime','Dalc','Walc','health']\n",
    "print(df[interesting_columns].head(10))"
   ]
  },
  {
   "cell_type": "code",
   "execution_count": 31,
   "metadata": {
    "collapsed": false
   },
   "outputs": [
    {
     "data": {
      "text/plain": [
       "<pandas.core.groupby.DataFrameGroupBy object at 0x00000000098CCA90>"
      ]
     },
     "execution_count": 31,
     "metadata": {},
     "output_type": "execute_result"
    }
   ],
   "source": [
    "by_age=df.groupby('age')\n",
    "by_age"
   ]
  },
  {
   "cell_type": "code",
   "execution_count": 32,
   "metadata": {
    "collapsed": false
   },
   "outputs": [
    {
     "name": "stdout",
     "output_type": "stream",
     "text": [
      "     school  sex  address  famsize  Pstatus  Medu  Fedu  Mjob  Fjob  reason  \\\n",
      "age                                                                           \n",
      "15      194  194      194      194      194   194   194   194   194     194   \n",
      "16      281  281      281      281      281   281   281   281   281     281   \n",
      "17      277  277      277      277      277   277   277   277   277     277   \n",
      "18      222  222      222      222      222   222   222   222   222     222   \n",
      "19       56   56       56       56       56    56    56    56    56      56   \n",
      "\n",
      "    ...   famrel  freetime  goout  Dalc  Walc  health  absences   G1   G2   G3  \n",
      "age ...                                                                         \n",
      "15  ...      194       194    194   194   194     194       194  194  194  194  \n",
      "16  ...      281       281    281   281   281     281       281  281  281  281  \n",
      "17  ...      277       277    277   277   277     277       277  277  277  277  \n",
      "18  ...      222       222    222   222   222     222       222  222  222  222  \n",
      "19  ...       56        56     56    56    56      56        56   56   56   56  \n",
      "\n",
      "[5 rows x 32 columns]\n",
      "\n",
      "\n",
      "age\n",
      "18    222\n",
      "19     56\n",
      "20      9\n",
      "21      3\n",
      "22      2\n",
      "dtype: int64\n"
     ]
    }
   ],
   "source": [
    "print(by_age.count().head())\n",
    "print('\\n')\n",
    "print(by_age.size().tail())"
   ]
  },
  {
   "cell_type": "code",
   "execution_count": 33,
   "metadata": {
    "collapsed": false
   },
   "outputs": [
    {
     "data": {
      "text/plain": [
       "<pandas.core.groupby.DataFrameGroupBy object at 0x0000000003C0F080>"
      ]
     },
     "execution_count": 33,
     "metadata": {},
     "output_type": "execute_result"
    }
   ],
   "source": [
    "by_sex=df.groupby('sex')\n",
    "by_sex"
   ]
  },
  {
   "cell_type": "code",
   "execution_count": 34,
   "metadata": {
    "collapsed": false
   },
   "outputs": [
    {
     "name": "stdout",
     "output_type": "stream",
     "text": [
      "     school  age  address  famsize  Pstatus  Medu  Fedu  Mjob  Fjob  reason  \\\n",
      "sex                                                                           \n",
      " F      591  591      591      591      591   591   591   591   591     591   \n",
      " M      453  453      453      453      453   453   453   453   453     453   \n",
      "\n",
      "    ...   famrel  freetime  goout  Dalc  Walc  health  absences   G1   G2   G3  \n",
      "sex ...                                                                         \n",
      " F  ...      591       591    591   591   591     591       591  591  591  591  \n",
      " M  ...      453       453    453   453   453     453       453  453  453  453  \n",
      "\n",
      "[2 rows x 32 columns]\n"
     ]
    }
   ],
   "source": [
    "print(by_sex.count().head())"
   ]
  },
  {
   "cell_type": "code",
   "execution_count": 35,
   "metadata": {
    "collapsed": false
   },
   "outputs": [
    {
     "name": "stdout",
     "output_type": "stream",
     "text": [
      "      age  Medu  Fedu  traveltime  studytime  failures  famrel  freetime  \\\n",
      "sex                                                                        \n",
      " F   9910  1475  1371         884       1268       134    2290      1795   \n",
      " M   7552  1243  1122         706        789       142    1819      1547   \n",
      "\n",
      "     goout  Dalc  Walc  health  absences    G1    G2    G3  \n",
      "sex                                                         \n",
      " F    1828   753  1149    1990      2663  6666  6689  6766  \n",
      " M    1467   807  1236    1709      1967  5041  5052  5075  \n"
     ]
    }
   ],
   "source": [
    "print(by_sex.sum())"
   ]
  },
  {
   "cell_type": "code",
   "execution_count": 36,
   "metadata": {
    "collapsed": false
   },
   "outputs": [
    {
     "name": "stdout",
     "output_type": "stream",
     "text": [
      "           age      Medu      Fedu  traveltime  studytime  failures    famrel  \\\n",
      "sex                                                                             \n",
      " F   16.768190  2.495770  2.319797    1.495770   2.145516  0.226734  3.874788   \n",
      " M   16.671082  2.743929  2.476821    1.558499   1.741722  0.313466  4.015453   \n",
      "\n",
      "     freetime     goout      Dalc      Walc    health  absences         G1  \\\n",
      "sex                                                                          \n",
      " F   3.037225  3.093063  1.274112  1.944162  3.367174  4.505922  11.279188   \n",
      " M   3.415011  3.238411  1.781457  2.728477  3.772627  4.342163  11.128035   \n",
      "\n",
      "            G2         G3  \n",
      "sex                        \n",
      " F   11.318105  11.448393  \n",
      " M   11.152318  11.203091  \n"
     ]
    }
   ],
   "source": [
    "print(by_sex.mean())"
   ]
  },
  {
   "cell_type": "code",
   "execution_count": 37,
   "metadata": {
    "collapsed": false
   },
   "outputs": [
    {
     "name": "stdout",
     "output_type": "stream",
     "text": [
      "     age  Medu  Fedu  traveltime  studytime  failures  famrel  freetime  \\\n",
      "sex                                                                       \n",
      " F    17     2     2           1          2         0       4         3   \n",
      " M    17     3     2           1          2         0       4         3   \n",
      "\n",
      "     goout  Dalc  Walc  health  absences  G1  G2  G3  \n",
      "sex                                                   \n",
      " F       3     1     2       3         2  11  11  12  \n",
      " M       3     1     3       4         2  11  11  11  \n"
     ]
    }
   ],
   "source": [
    "print(by_sex.median())"
   ]
  },
  {
   "cell_type": "code",
   "execution_count": 38,
   "metadata": {
    "collapsed": false
   },
   "outputs": [
    {
     "data": {
      "text/plain": [
       "age\n",
       "19    4\n",
       "18    4\n",
       "17    4\n",
       "16    4\n",
       "15    4\n",
       "Name: studytime, dtype: int64"
      ]
     },
     "execution_count": 38,
     "metadata": {},
     "output_type": "execute_result"
    }
   ],
   "source": [
    "by_age.studytime.nunique().sort_values(ascending=False)[:5]"
   ]
  },
  {
   "cell_type": "code",
   "execution_count": 39,
   "metadata": {
    "collapsed": false
   },
   "outputs": [
    {
     "data": {
      "text/plain": [
       " F     591\n",
       " M     453\n",
       "Name: sex, dtype: int64"
      ]
     },
     "execution_count": 39,
     "metadata": {},
     "output_type": "execute_result"
    }
   ],
   "source": [
    "df.sex.value_counts()"
   ]
  },
  {
   "cell_type": "code",
   "execution_count": 40,
   "metadata": {
    "collapsed": false
   },
   "outputs": [
    {
     "data": {
      "text/plain": [
       "<matplotlib.text.Text at 0xa1ce710>"
      ]
     },
     "execution_count": 40,
     "metadata": {},
     "output_type": "execute_result"
    },
    {
     "data": {
      "image/png": "[encoded data removed]",
      "text/plain": [
       "<matplotlib.figure.Figure at 0x9ea4b70>"
      ]
     },
     "metadata": {},
     "output_type": "display_data"
    }
   ],
   "source": [
    "df.age.plot.hist(bins=30)\n",
    "plt.title(\"Distribution of student's ages\")\n",
    "plt.ylabel('Count of students')\n",
    "plt.xlabel('Age')"
   ]
  },
  {
   "cell_type": "code",
   "execution_count": 41,
   "metadata": {
    "collapsed": false
   },
   "outputs": [
    {
     "data": {
      "text/html": [
       "<div>\n",
       "<table border=\"1\" class=\"dataframe\">\n",
       "  <thead>\n",
       "    <tr style=\"text-align: right;\">\n",
       "      <th></th>\n",
       "      <th>age</th>\n",
       "      <th>age_group</th>\n",
       "    </tr>\n",
       "  </thead>\n",
       "  <tbody>\n",
       "    <tr>\n",
       "      <th>0</th>\n",
       "      <td>18</td>\n",
       "      <td>18-20</td>\n",
       "    </tr>\n",
       "    <tr>\n",
       "      <th>1</th>\n",
       "      <td>17</td>\n",
       "      <td>18-20</td>\n",
       "    </tr>\n",
       "    <tr>\n",
       "      <th>2</th>\n",
       "      <td>15</td>\n",
       "      <td>15-17</td>\n",
       "    </tr>\n",
       "    <tr>\n",
       "      <th>4</th>\n",
       "      <td>16</td>\n",
       "      <td>15-17</td>\n",
       "    </tr>\n",
       "    <tr>\n",
       "      <th>127</th>\n",
       "      <td>19</td>\n",
       "      <td>18-20</td>\n",
       "    </tr>\n",
       "    <tr>\n",
       "      <th>247</th>\n",
       "      <td>22</td>\n",
       "      <td>21-23</td>\n",
       "    </tr>\n",
       "    <tr>\n",
       "      <th>306</th>\n",
       "      <td>20</td>\n",
       "      <td>21-23</td>\n",
       "    </tr>\n",
       "    <tr>\n",
       "      <th>392</th>\n",
       "      <td>21</td>\n",
       "      <td>21-23</td>\n",
       "    </tr>\n",
       "  </tbody>\n",
       "</table>\n",
       "</div>"
      ],
      "text/plain": [
       "     age age_group\n",
       "0     18     18-20\n",
       "1     17     18-20\n",
       "2     15     15-17\n",
       "4     16     15-17\n",
       "127   19     18-20\n",
       "247   22     21-23\n",
       "306   20     21-23\n",
       "392   21     21-23"
      ]
     },
     "execution_count": 41,
     "metadata": {},
     "output_type": "execute_result"
    }
   ],
   "source": [
    "#bin 'age' into categories\n",
    "# bin edges are 15 and 22 so range is 14\n",
    "labels = ['15-17', '18-20', '21-23']\n",
    "# split students into 3 bins of 3 years, having the bins exclusive of max age in bin\n",
    "df['age_group'] = pd.cut(df.age, range(14, 24, 3), right=False, labels=labels)\n",
    "df[['age', 'age_group']].drop_duplicates()[:10]\n"
   ]
  },
  {
   "cell_type": "code",
   "execution_count": 42,
   "metadata": {
    "collapsed": true
   },
   "outputs": [],
   "source": [
    "#compare study time across age groups"
   ]
  },
  {
   "cell_type": "code",
   "execution_count": 43,
   "metadata": {
    "collapsed": false
   },
   "outputs": [
    {
     "data": {
      "text/html": [
       "<div>\n",
       "<table border=\"1\" class=\"dataframe\">\n",
       "  <thead>\n",
       "    <tr>\n",
       "      <th></th>\n",
       "      <th colspan=\"2\" halign=\"left\">studytime</th>\n",
       "    </tr>\n",
       "    <tr>\n",
       "      <th></th>\n",
       "      <th>size</th>\n",
       "      <th>mean</th>\n",
       "    </tr>\n",
       "    <tr>\n",
       "      <th>age_group</th>\n",
       "      <th></th>\n",
       "      <th></th>\n",
       "    </tr>\n",
       "  </thead>\n",
       "  <tbody>\n",
       "    <tr>\n",
       "      <th>15-17</th>\n",
       "      <td>475</td>\n",
       "      <td>1.953684</td>\n",
       "    </tr>\n",
       "    <tr>\n",
       "      <th>18-20</th>\n",
       "      <td>555</td>\n",
       "      <td>1.990991</td>\n",
       "    </tr>\n",
       "    <tr>\n",
       "      <th>21-23</th>\n",
       "      <td>14</td>\n",
       "      <td>1.714286</td>\n",
       "    </tr>\n",
       "  </tbody>\n",
       "</table>\n",
       "</div>"
      ],
      "text/plain": [
       "          studytime          \n",
       "               size      mean\n",
       "age_group                    \n",
       "15-17           475  1.953684\n",
       "18-20           555  1.990991\n",
       "21-23            14  1.714286"
      ]
     },
     "execution_count": 43,
     "metadata": {},
     "output_type": "execute_result"
    }
   ],
   "source": [
    "df.groupby('age_group').agg({'studytime': [np.size, np.mean]})"
   ]
  },
  {
   "cell_type": "code",
   "execution_count": 44,
   "metadata": {
    "collapsed": false
   },
   "outputs": [
    {
     "data": {
      "text/plain": [
       "<matplotlib.text.Text at 0xa51eb00>"
      ]
     },
     "execution_count": 44,
     "metadata": {},
     "output_type": "execute_result"
    },
    {
     "data": {
      "image/png": "[encoded data removed]",
      "text/plain": [
       "<matplotlib.figure.Figure at 0x98c20f0>"
      ]
     },
     "metadata": {},
     "output_type": "display_data"
    }
   ],
   "source": [
    "plt.plot(\"age\",\"studytime\",data=df)\n",
    "plt.xlabel('Age')\n",
    "plt.ylabel('Study time in hours')\n",
    "plt.title('Amount of study time by age')"
   ]
  },
  {
   "cell_type": "code",
   "execution_count": 45,
   "metadata": {
    "collapsed": false
   },
   "outputs": [
    {
     "data": {
      "text/plain": [
       "<matplotlib.axes._subplots.AxesSubplot at 0xad75ac8>"
      ]
     },
     "execution_count": 45,
     "metadata": {},
     "output_type": "execute_result"
    },
    {
     "data": {
      "image/png": "[encoded data removed]",
      "text/plain": [
       "<matplotlib.figure.Figure at 0xa374240>"
      ]
     },
     "metadata": {},
     "output_type": "display_data"
    }
   ],
   "source": [
    "df.boxplot(column='studytime',by='age')"
   ]
  },
  {
   "cell_type": "code",
   "execution_count": 46,
   "metadata": {
    "collapsed": false
   },
   "outputs": [
    {
     "name": "stdout",
     "output_type": "stream",
     "text": [
      "Frequency Table for Study Time\n",
      "4     62\n",
      "3    162\n",
      "1    317\n",
      "2    503\n",
      "Name: studytime, dtype: int64\n"
     ]
    }
   ],
   "source": [
    "temp1 = df['studytime'].value_counts(ascending=True)\n",
    "print 'Frequency Table for Study Time'\n",
    "print temp1"
   ]
  },
  {
   "cell_type": "code",
   "execution_count": 47,
   "metadata": {
    "collapsed": false
   },
   "outputs": [
    {
     "data": {
      "text/plain": [
       "<matplotlib.axes._subplots.AxesSubplot at 0xb281e80>"
      ]
     },
     "execution_count": 47,
     "metadata": {},
     "output_type": "execute_result"
    },
    {
     "data": {
      "image/png": "[encoded data removed]",
      "text/plain": [
       "<matplotlib.figure.Figure at 0xb281eb8>"
      ]
     },
     "metadata": {},
     "output_type": "display_data"
    }
   ],
   "source": [
    "fig = plt.figure(figsize=(8,4))\n",
    "ax1 = fig.add_subplot(121)\n",
    "ax1.set_xlabel('Study time')\n",
    "ax1.set_ylabel('Count of students')\n",
    "ax1.set_title(\"Count of Number of student and study time\")\n",
    "temp1.plot(kind='bar')\n",
    "#1 = (<2 hours), 2 = (2-5 hours), 3 = (5-10 hours), 4 = (>10 hours)\n"
   ]
  },
  {
   "cell_type": "code",
   "execution_count": 48,
   "metadata": {
    "collapsed": false
   },
   "outputs": [
    {
     "name": "stdout",
     "output_type": "stream",
     "text": [
      "Frequency Distribution for Father's Occupation\n",
      " other        584\n",
      " services     292\n",
      " teacher       65\n",
      " at_home       62\n",
      " health        41\n",
      "Name: Fjob, dtype: int64\n"
     ]
    }
   ],
   "source": [
    "fatherjob=df['Fjob'].value_counts()\n",
    "print \"Frequency Distribution for Father's Occupation\"\n",
    "print fatherjob"
   ]
  },
  {
   "cell_type": "code",
   "execution_count": 49,
   "metadata": {
    "collapsed": false
   },
   "outputs": [
    {
     "data": {
      "text/plain": [
       "<matplotlib.axes._subplots.AxesSubplot at 0xb2a96d8>"
      ]
     },
     "execution_count": 49,
     "metadata": {},
     "output_type": "execute_result"
    },
    {
     "data": {
      "image/png": "[encoded data removed]",
      "text/plain": [
       "<matplotlib.figure.Figure at 0xb056198>"
      ]
     },
     "metadata": {},
     "output_type": "display_data"
    }
   ],
   "source": [
    "plt.xlabel('Type of job')\n",
    "plt.ylabel('Count of number of fathers')\n",
    "plt.title('Count of fathers doing certain jobs')\n",
    "fatherjob.plot(kind='bar')"
   ]
  },
  {
   "cell_type": "code",
   "execution_count": 50,
   "metadata": {
    "collapsed": false
   },
   "outputs": [
    {
     "name": "stdout",
     "output_type": "stream",
     "text": [
      "freq table for number of absences from school\n",
      "0     359\n",
      "2     175\n",
      "4     146\n",
      "6      80\n",
      "8      64\n",
      "10     38\n",
      "12     24\n",
      "14     20\n",
      "5      17\n",
      "16     17\n",
      "1      15\n",
      "3      15\n",
      "7      10\n",
      "9      10\n",
      "18      8\n",
      "11      8\n",
      "15      5\n",
      "22      5\n",
      "20      4\n",
      "13      4\n",
      "21      3\n",
      "24      2\n",
      "26      2\n",
      "30      2\n",
      "75      1\n",
      "56      1\n",
      "19      1\n",
      "23      1\n",
      "25      1\n",
      "28      1\n",
      "32      1\n",
      "38      1\n",
      "40      1\n",
      "54      1\n",
      "17      1\n",
      "Name: absences, dtype: int64\n"
     ]
    }
   ],
   "source": [
    "x=df['absences'].value_counts()\n",
    "print 'freq table for number of absences from school'\n",
    "print x"
   ]
  },
  {
   "cell_type": "code",
   "execution_count": 51,
   "metadata": {
    "collapsed": false
   },
   "outputs": [
    {
     "data": {
      "text/plain": [
       "[<matplotlib.lines.Line2D at 0xb42e0f0>]"
      ]
     },
     "execution_count": 51,
     "metadata": {},
     "output_type": "execute_result"
    },
    {
     "data": {
      "image/png": "[encoded data removed]",
      "text/plain": [
       "<matplotlib.figure.Figure at 0xb42e128>"
      ]
     },
     "metadata": {},
     "output_type": "display_data"
    }
   ],
   "source": [
    "plt.xlabel('Absences from school 0-93 days')\n",
    "plt.ylabel('Count of number of absences')\n",
    "plt.title('Frequency of number of absences')\n",
    "plt.plot(x,'-r')"
   ]
  },
  {
   "cell_type": "code",
   "execution_count": 52,
   "metadata": {
    "collapsed": false
   },
   "outputs": [
    {
     "data": {
      "text/html": [
       "<div>\n",
       "<table border=\"1\" class=\"dataframe\">\n",
       "  <thead>\n",
       "    <tr style=\"text-align: right;\">\n",
       "      <th>Dalc</th>\n",
       "      <th>1</th>\n",
       "      <th>2</th>\n",
       "      <th>3</th>\n",
       "      <th>4</th>\n",
       "      <th>5</th>\n",
       "      <th>All</th>\n",
       "    </tr>\n",
       "    <tr>\n",
       "      <th>age</th>\n",
       "      <th></th>\n",
       "      <th></th>\n",
       "      <th></th>\n",
       "      <th></th>\n",
       "      <th></th>\n",
       "      <th></th>\n",
       "    </tr>\n",
       "  </thead>\n",
       "  <tbody>\n",
       "    <tr>\n",
       "      <th>15</th>\n",
       "      <td>143</td>\n",
       "      <td>36</td>\n",
       "      <td>11</td>\n",
       "      <td>2</td>\n",
       "      <td>2</td>\n",
       "      <td>194</td>\n",
       "    </tr>\n",
       "    <tr>\n",
       "      <th>16</th>\n",
       "      <td>206</td>\n",
       "      <td>51</td>\n",
       "      <td>14</td>\n",
       "      <td>4</td>\n",
       "      <td>6</td>\n",
       "      <td>281</td>\n",
       "    </tr>\n",
       "    <tr>\n",
       "      <th>17</th>\n",
       "      <td>184</td>\n",
       "      <td>58</td>\n",
       "      <td>21</td>\n",
       "      <td>6</td>\n",
       "      <td>8</td>\n",
       "      <td>277</td>\n",
       "    </tr>\n",
       "    <tr>\n",
       "      <th>18</th>\n",
       "      <td>150</td>\n",
       "      <td>43</td>\n",
       "      <td>13</td>\n",
       "      <td>9</td>\n",
       "      <td>7</td>\n",
       "      <td>222</td>\n",
       "    </tr>\n",
       "    <tr>\n",
       "      <th>19</th>\n",
       "      <td>37</td>\n",
       "      <td>6</td>\n",
       "      <td>9</td>\n",
       "      <td>4</td>\n",
       "      <td>0</td>\n",
       "      <td>56</td>\n",
       "    </tr>\n",
       "    <tr>\n",
       "      <th>20</th>\n",
       "      <td>6</td>\n",
       "      <td>2</td>\n",
       "      <td>0</td>\n",
       "      <td>1</td>\n",
       "      <td>0</td>\n",
       "      <td>9</td>\n",
       "    </tr>\n",
       "    <tr>\n",
       "      <th>21</th>\n",
       "      <td>1</td>\n",
       "      <td>0</td>\n",
       "      <td>1</td>\n",
       "      <td>0</td>\n",
       "      <td>1</td>\n",
       "      <td>3</td>\n",
       "    </tr>\n",
       "    <tr>\n",
       "      <th>22</th>\n",
       "      <td>0</td>\n",
       "      <td>0</td>\n",
       "      <td>0</td>\n",
       "      <td>0</td>\n",
       "      <td>2</td>\n",
       "      <td>2</td>\n",
       "    </tr>\n",
       "    <tr>\n",
       "      <th>All</th>\n",
       "      <td>727</td>\n",
       "      <td>196</td>\n",
       "      <td>69</td>\n",
       "      <td>26</td>\n",
       "      <td>26</td>\n",
       "      <td>1044</td>\n",
       "    </tr>\n",
       "  </tbody>\n",
       "</table>\n",
       "</div>"
      ],
      "text/plain": [
       "Dalc    1    2   3   4   5   All\n",
       "age                             \n",
       "15    143   36  11   2   2   194\n",
       "16    206   51  14   4   6   281\n",
       "17    184   58  21   6   8   277\n",
       "18    150   43  13   9   7   222\n",
       "19     37    6   9   4   0    56\n",
       "20      6    2   0   1   0     9\n",
       "21      1    0   1   0   1     3\n",
       "22      0    0   0   0   2     2\n",
       "All   727  196  69  26  26  1044"
      ]
     },
     "execution_count": 52,
     "metadata": {},
     "output_type": "execute_result"
    }
   ],
   "source": [
    "pd.crosstab(df[\"age\"],df[\"Dalc\"],margins=True)"
   ]
  },
  {
   "cell_type": "code",
   "execution_count": 53,
   "metadata": {
    "collapsed": true
   },
   "outputs": [],
   "source": [
    "#Daalc=workday alcohol consumption 1=very low to 5-very high"
   ]
  },
  {
   "cell_type": "code",
   "execution_count": 54,
   "metadata": {
    "collapsed": true
   },
   "outputs": [],
   "source": [
    "#weekend alcohol consumption 1=very low, 5-very high"
   ]
  },
  {
   "cell_type": "code",
   "execution_count": 55,
   "metadata": {
    "collapsed": false
   },
   "outputs": [
    {
     "data": {
      "text/html": [
       "<div>\n",
       "<table border=\"1\" class=\"dataframe\">\n",
       "  <thead>\n",
       "    <tr style=\"text-align: right;\">\n",
       "      <th>Walc</th>\n",
       "      <th>1</th>\n",
       "      <th>2</th>\n",
       "      <th>3</th>\n",
       "      <th>4</th>\n",
       "      <th>5</th>\n",
       "      <th>All</th>\n",
       "    </tr>\n",
       "    <tr>\n",
       "      <th>age</th>\n",
       "      <th></th>\n",
       "      <th></th>\n",
       "      <th></th>\n",
       "      <th></th>\n",
       "      <th></th>\n",
       "      <th></th>\n",
       "    </tr>\n",
       "  </thead>\n",
       "  <tbody>\n",
       "    <tr>\n",
       "      <th>15</th>\n",
       "      <td>102</td>\n",
       "      <td>32</td>\n",
       "      <td>33</td>\n",
       "      <td>19</td>\n",
       "      <td>8</td>\n",
       "      <td>194</td>\n",
       "    </tr>\n",
       "    <tr>\n",
       "      <th>16</th>\n",
       "      <td>113</td>\n",
       "      <td>66</td>\n",
       "      <td>41</td>\n",
       "      <td>41</td>\n",
       "      <td>20</td>\n",
       "      <td>281</td>\n",
       "    </tr>\n",
       "    <tr>\n",
       "      <th>17</th>\n",
       "      <td>79</td>\n",
       "      <td>71</td>\n",
       "      <td>67</td>\n",
       "      <td>36</td>\n",
       "      <td>24</td>\n",
       "      <td>277</td>\n",
       "    </tr>\n",
       "    <tr>\n",
       "      <th>18</th>\n",
       "      <td>76</td>\n",
       "      <td>53</td>\n",
       "      <td>40</td>\n",
       "      <td>35</td>\n",
       "      <td>18</td>\n",
       "      <td>222</td>\n",
       "    </tr>\n",
       "    <tr>\n",
       "      <th>19</th>\n",
       "      <td>23</td>\n",
       "      <td>11</td>\n",
       "      <td>17</td>\n",
       "      <td>5</td>\n",
       "      <td>0</td>\n",
       "      <td>56</td>\n",
       "    </tr>\n",
       "    <tr>\n",
       "      <th>20</th>\n",
       "      <td>4</td>\n",
       "      <td>1</td>\n",
       "      <td>1</td>\n",
       "      <td>2</td>\n",
       "      <td>1</td>\n",
       "      <td>9</td>\n",
       "    </tr>\n",
       "    <tr>\n",
       "      <th>21</th>\n",
       "      <td>1</td>\n",
       "      <td>1</td>\n",
       "      <td>1</td>\n",
       "      <td>0</td>\n",
       "      <td>0</td>\n",
       "      <td>3</td>\n",
       "    </tr>\n",
       "    <tr>\n",
       "      <th>22</th>\n",
       "      <td>0</td>\n",
       "      <td>0</td>\n",
       "      <td>0</td>\n",
       "      <td>0</td>\n",
       "      <td>2</td>\n",
       "      <td>2</td>\n",
       "    </tr>\n",
       "    <tr>\n",
       "      <th>All</th>\n",
       "      <td>398</td>\n",
       "      <td>235</td>\n",
       "      <td>200</td>\n",
       "      <td>138</td>\n",
       "      <td>73</td>\n",
       "      <td>1044</td>\n",
       "    </tr>\n",
       "  </tbody>\n",
       "</table>\n",
       "</div>"
      ],
      "text/plain": [
       "Walc    1    2    3    4   5   All\n",
       "age                               \n",
       "15    102   32   33   19   8   194\n",
       "16    113   66   41   41  20   281\n",
       "17     79   71   67   36  24   277\n",
       "18     76   53   40   35  18   222\n",
       "19     23   11   17    5   0    56\n",
       "20      4    1    1    2   1     9\n",
       "21      1    1    1    0   0     3\n",
       "22      0    0    0    0   2     2\n",
       "All   398  235  200  138  73  1044"
      ]
     },
     "execution_count": 55,
     "metadata": {},
     "output_type": "execute_result"
    }
   ],
   "source": [
    "pd.crosstab(df[\"age\"],df[\"Walc\"],margins=True)"
   ]
  },
  {
   "cell_type": "code",
   "execution_count": 56,
   "metadata": {
    "collapsed": false
   },
   "outputs": [
    {
     "data": {
      "text/plain": [
       "<matplotlib.text.Text at 0xb65b358>"
      ]
     },
     "execution_count": 56,
     "metadata": {},
     "output_type": "execute_result"
    },
    {
     "data": {
      "image/png": "[encoded data removed]",
      "text/plain": [
       "<matplotlib.figure.Figure at 0x9c6e748>"
      ]
     },
     "metadata": {},
     "output_type": "display_data"
    }
   ],
   "source": [
    "df['Dalc'].hist(bins=50)\n",
    "plt.xlabel('weekday alcohol consumption,1=very low, 5=very high')\n",
    "plt.ylabel('count of students')"
   ]
  },
  {
   "cell_type": "code",
   "execution_count": 57,
   "metadata": {
    "collapsed": false
   },
   "outputs": [
    {
     "data": {
      "text/plain": [
       "<matplotlib.text.Text at 0xb9415f8>"
      ]
     },
     "execution_count": 57,
     "metadata": {},
     "output_type": "execute_result"
    },
    {
     "data": {
      "image/png": "[encoded data removed]",
      "text/plain": [
       "<matplotlib.figure.Figure at 0xb953ba8>"
      ]
     },
     "metadata": {},
     "output_type": "display_data"
    }
   ],
   "source": [
    "df['Walc'].hist(bins=50)\n",
    "plt.xlabel('weekend alcohol consumption,1=very low, 5=very high')\n",
    "plt.ylabel('count of students')"
   ]
  },
  {
   "cell_type": "code",
   "execution_count": 58,
   "metadata": {
    "collapsed": true
   },
   "outputs": [],
   "source": [
    "import seaborn as sns"
   ]
  },
  {
   "cell_type": "code",
   "execution_count": 59,
   "metadata": {
    "collapsed": false
   },
   "outputs": [
    {
     "name": "stdout",
     "output_type": "stream",
     "text": [
      "16.7260536398\n"
     ]
    }
   ],
   "source": [
    "average_age=df['age'].mean()\n",
    "print average_age"
   ]
  },
  {
   "cell_type": "code",
   "execution_count": 60,
   "metadata": {
    "collapsed": false
   },
   "outputs": [
    {
     "name": "stdout",
     "output_type": "stream",
     "text": [
      "1.23997469316\n"
     ]
    }
   ],
   "source": [
    "std_age=df['age'].std()\n",
    "print std_age"
   ]
  },
  {
   "cell_type": "code",
   "execution_count": 61,
   "metadata": {
    "collapsed": false,
    "scrolled": true
   },
   "outputs": [
    {
     "data": {
      "text/plain": [
       "<matplotlib.collections.PathCollection at 0xca1b208>"
      ]
     },
     "execution_count": 61,
     "metadata": {},
     "output_type": "execute_result"
    },
    {
     "data": {
      "image/png": "[encoded data removed]",
      "text/plain": [
       "<matplotlib.figure.Figure at 0xc941710>"
      ]
     },
     "metadata": {},
     "output_type": "display_data"
    }
   ],
   "source": [
    "#scatter plot of number of absences against age\n",
    "plt.xlabel('age of students')\n",
    "plt.ylabel('number of absences from school')\n",
    "plt.title('Number of absences from school by age')\n",
    "plt.scatter(df['age'].head(100),df['absences'].head(100))"
   ]
  },
  {
   "cell_type": "code",
   "execution_count": 62,
   "metadata": {
    "collapsed": true
   },
   "outputs": [],
   "source": [
    "#16 year olds had the most absences from school"
   ]
  },
  {
   "cell_type": "code",
   "execution_count": 63,
   "metadata": {
    "collapsed": false
   },
   "outputs": [
    {
     "name": "stdout",
     "output_type": "stream",
     "text": [
      "    school  sex  age address famsize Pstatus  Medu  Fedu        Mjob  \\\n",
      "4       GP   F    16      U     GT3       T      3     3      other    \n",
      "5       GP   M    16      U     LE3       T      4     3   services    \n",
      "6       GP   M    16      U     LE3       T      2     2      other    \n",
      "15      GP   F    16      U     GT3       T      4     4     health    \n",
      "16      GP   F    16      U     GT3       T      4     4   services    \n",
      "17      GP   F    16      U     GT3       T      3     3      other    \n",
      "19      GP   M    16      U     LE3       T      4     3     health    \n",
      "22      GP   M    16      U     LE3       T      4     2    teacher    \n",
      "23      GP   M    16      U     LE3       T      2     2      other    \n",
      "25      GP   F    16      U     GT3       T      2     2   services    \n",
      "28      GP   M    16      U     LE3       A      3     4   services    \n",
      "29      GP   M    16      U     GT3       T      4     4    teacher    \n",
      "34      GP   M    16      U     GT3       T      3     2      other    \n",
      "37      GP   M    16      R     GT3       A      4     4      other    \n",
      "40      GP   F    16      U     LE3       T      2     2      other    \n",
      "44      GP   F    16      U     LE3       T      2     2      other    \n",
      "46      GP   F    16      U     LE3       A      3     3      other    \n",
      "47      GP   M    16      U     GT3       T      4     3     health    \n",
      "50      GP   F    16      U     LE3       T      2     2   services    \n",
      "55      GP   F    16      U     GT3       A      2     1      other    \n",
      "59      GP   F    16      U     GT3       T      4     2   services    \n",
      "60      GP   F    16      R     GT3       T      4     4     health    \n",
      "61      GP   F    16      U     GT3       T      1     1   services    \n",
      "62      GP   F    16      U     LE3       T      1     2      other    \n",
      "63      GP   F    16      U     GT3       T      4     3    teacher    \n",
      "65      GP   F    16      U     LE3       T      4     3    teacher    \n",
      "67      GP   F    16      U     GT3       T      3     1   services    \n",
      "70      GP   M    16      U     GT3       T      3     1      other    \n",
      "73      GP   M    16      U     GT3       T      3     1      other    \n",
      "74      GP   F    16      U     GT3       T      3     3      other    \n",
      "..     ...  ...  ...     ...     ...     ...   ...   ...         ...   \n",
      "894     MS   F    16      U     GT3       T      2     2   services    \n",
      "896     MS   M    16      U     LE3       T      4     3      other    \n",
      "898     MS   F    16      U     GT3       T      1     1      other    \n",
      "904     MS   F    16      R     LE3       T      1     1    at_home    \n",
      "908     MS   F    16      U     GT3       T      3     1      other    \n",
      "909     MS   F    16      U     GT3       T      3     2   services    \n",
      "911     MS   F    16      R     GT3       T      4     4     health    \n",
      "912     MS   F    16      R     LE3       T      1     2      other    \n",
      "914     MS   M    16      R     GT3       T      2     1      other    \n",
      "915     MS   F    16      U     LE3       T      1     1    at_home    \n",
      "916     MS   F    16      R     GT3       T      2     3    at_home    \n",
      "917     MS   F    16      U     GT3       T      4     4     health    \n",
      "919     MS   F    16      R     LE3       T      3     4    at_home    \n",
      "922     MS   M    16      U     LE3       T      2     2   services    \n",
      "924     MS   F    16      U     LE3       T      4     4   services    \n",
      "927     MS   M    16      U     GT3       T      2     1     health    \n",
      "928     MS   F    16      U     LE3       T      2     1      other    \n",
      "929     MS   M    16      U     LE3       T      4     4    teacher    \n",
      "933     MS   F    16      R     LE3       T      2     2      other    \n",
      "934     MS   F    16      U     LE3       T      4     1      other    \n",
      "937     MS   F    16      U     GT3       T      4     4    teacher    \n",
      "942     MS   M    16      R     LE3       T      4     1      other    \n",
      "945     MS   M    16      U     LE3       A      2     2      other    \n",
      "950     MS   F    16      R     GT3       T      1     2      other    \n",
      "951     MS   M    16      R     LE3       T      1     2      other    \n",
      "957     MS   F    16      R     LE3       T      2     2      other    \n",
      "959     MS   M    16      R     GT3       T      3     2   services    \n",
      "960     MS   M    16      R     LE3       T      1     1    at_home    \n",
      "965     MS   M    16      R     GT3       T      2     2   services    \n",
      "967     MS   F    16      U     GT3       A      3     2   services    \n",
      "\n",
      "           Fjob    ...    freetime goout  Dalc  Walc  health absences  G1  G2  \\\n",
      "4        other     ...           3     2     1     2       5        4   6  10   \n",
      "5        other     ...           4     2     1     2       5       10  15  15   \n",
      "6        other     ...           4     4     1     1       3        0  12  12   \n",
      "15       other     ...           4     4     1     2       2        4  14  14   \n",
      "16    services     ...           2     3     1     2       2        6  13  14   \n",
      "17       other     ...           3     2     1     1       4        4   8  10   \n",
      "19       other     ...           1     3     1     3       5        4   8  10   \n",
      "22       other     ...           5     1     1     3       5        2  15  15   \n",
      "23       other     ...           4     4     2     4       5        0  13  13   \n",
      "25    services     ...           2     2     1     3       5       14   6   9   \n",
      "28       other     ...           3     3     1     1       5        4  11  11   \n",
      "29     teacher     ...           4     5     5     5       5       16  10  12   \n",
      "34       other     ...           4     3     1     1       5        0  12  14   \n",
      "37     teacher     ...           4     3     1     1       5        7  15  16   \n",
      "40       other     ...           3     3     1     2       3       25   7  10   \n",
      "44     at_home     ...           3     3     2     2       5       14  10  10   \n",
      "46    services     ...           3     5     1     4       3       12  11  12   \n",
      "47    services     ...           2     2     1     1       2        4  19  19   \n",
      "50    services     ...           3     3     2     3       4        2  12  13   \n",
      "55       other     ...           3     4     1     1       2        8   8   9   \n",
      "59       other     ...           2     3     1     1       5        2  15  16   \n",
      "60     teacher     ...           4     4     2     3       4        6  10  11   \n",
      "61    services     ...           5     5     5     5       5        6  10   8   \n",
      "62    services     ...           4     3     1     1       1        4   8  10   \n",
      "63      health     ...           4     4     2     4       4        2  10   9   \n",
      "65    services     ...           4     3     1     2       1        2  16  15   \n",
      "67       other     ...           3     3     1     2       5        4   7   7   \n",
      "70       other     ...           3     2     1     1       5        0  13  15   \n",
      "73       other     ...           3     2     2     2       5        2  12  12   \n",
      "74    services     ...           3     3     2     4       5       54  11  12   \n",
      "..          ...    ...         ...   ...   ...   ...     ...      ...  ..  ..   \n",
      "894      other     ...           2     5     1     2       5        0  17  16   \n",
      "896      other     ...           2     5     1     5       5        8  14  12   \n",
      "898      other     ...           2     1     1     1       5        0  14  14   \n",
      "904      other     ...           3     2     1     1       1        0  16  17   \n",
      "908      other     ...           1     3     1     3       1        0   8   6   \n",
      "909    at_home     ...           1     3     1     4       3        2   7   6   \n",
      "911    teacher     ...           3     3     2     3       2        0  14  16   \n",
      "912      other     ...           4     5     1     4       2        0  14  14   \n",
      "914   services     ...           2     1     1     1       2        0   8   7   \n",
      "915      other     ...           3     2     1     3       5        6   6   8   \n",
      "916   services     ...           3     3     1     1       2        0   8  10   \n",
      "917     health     ...           3     4     1     2       3        4   8   8   \n",
      "919      other     ...           2     1     1     1       2        2   7   9   \n",
      "922   services     ...           1     3     2     2       3        0  10   9   \n",
      "924   services     ...           1     3     1     2       5        1  11  11   \n",
      "927   services     ...           2     2     1     4       5        2   9   7   \n",
      "928   services     ...           2     2     1     1       3        0  14  15   \n",
      "929     health     ...           1     2     2     5       5        0  11  12   \n",
      "933      other     ...           3     3     2     2       5        2  11  11   \n",
      "934      other     ...           2     4     2     2       1        8   9  10   \n",
      "937   services     ...           3     5     1     4       5        1  10  11   \n",
      "942    at_home     ...           1     2     2     1       2        0  10  11   \n",
      "945   services     ...           1     2     2     2       5        0  12  13   \n",
      "950      other     ...           3     4     1     1       3        5  13  14   \n",
      "951    at_home     ...           4     4     2     4       5        4   9  10   \n",
      "957   services     ...           4     3     1     1       1        0  11  13   \n",
      "959      other     ...           5     5     2     3       5        2  11   9   \n",
      "960      other     ...           5     5     2     4       5        0  10  10   \n",
      "965   services     ...           4     3     2     4       4        6   7   8   \n",
      "967    at_home     ...           5     5     1     1       1        8   5   5   \n",
      "\n",
      "     G3 age_group  \n",
      "4    10     15-17  \n",
      "5    15     15-17  \n",
      "6    11     15-17  \n",
      "15   14     15-17  \n",
      "16   14     15-17  \n",
      "17   10     15-17  \n",
      "19   10     15-17  \n",
      "22   16     15-17  \n",
      "23   12     15-17  \n",
      "25    8     15-17  \n",
      "28   11     15-17  \n",
      "29   11     15-17  \n",
      "34   15     15-17  \n",
      "37   15     15-17  \n",
      "40   11     15-17  \n",
      "44    9     15-17  \n",
      "46   11     15-17  \n",
      "47   20     15-17  \n",
      "50   13     15-17  \n",
      "55   10     15-17  \n",
      "59   16     15-17  \n",
      "60   11     15-17  \n",
      "61   11     15-17  \n",
      "62    9     15-17  \n",
      "63    9     15-17  \n",
      "65   15     15-17  \n",
      "67    6     15-17  \n",
      "70   15     15-17  \n",
      "73   14     15-17  \n",
      "74   11     15-17  \n",
      "..   ..       ...  \n",
      "894  16     15-17  \n",
      "896  13     15-17  \n",
      "898  14     15-17  \n",
      "904  18     15-17  \n",
      "908   8     15-17  \n",
      "909   7     15-17  \n",
      "911  16     15-17  \n",
      "912  15     15-17  \n",
      "914   0     15-17  \n",
      "915   8     15-17  \n",
      "916  10     15-17  \n",
      "917   8     15-17  \n",
      "919   8     15-17  \n",
      "922  10     15-17  \n",
      "924  11     15-17  \n",
      "927   8     15-17  \n",
      "928  16     15-17  \n",
      "929  12     15-17  \n",
      "933  11     15-17  \n",
      "934  10     15-17  \n",
      "937  12     15-17  \n",
      "942  11     15-17  \n",
      "945  13     15-17  \n",
      "950  13     15-17  \n",
      "951  11     15-17  \n",
      "957  12     15-17  \n",
      "959  10     15-17  \n",
      "960   9     15-17  \n",
      "965   8     15-17  \n",
      "967   7     15-17  \n",
      "\n",
      "[281 rows x 34 columns]\n"
     ]
    }
   ],
   "source": [
    "all_16yearolds=(df[df.age==16])\n",
    "print all_16yearolds"
   ]
  },
  {
   "cell_type": "code",
   "execution_count": null,
   "metadata": {
    "collapsed": true
   },
   "outputs": [],
   "source": []
  }
 ],
 "metadata": {
  "anaconda-cloud": {},
  "kernelspec": {
   "display_name": "Python [Root]",
   "language": "python",
   "name": "Python [Root]"
  },
  "language_info": {
   "codemirror_mode": {
    "name": "ipython",
    "version": 2
   },
   "file_extension": ".py",
   "mimetype": "text/x-python",
   "name": "python",
   "nbconvert_exporter": "python",
   "pygments_lexer": "ipython2",
   "version": "2.7.12"
  }
 },
 "nbformat": 4,
 "nbformat_minor": 0
}

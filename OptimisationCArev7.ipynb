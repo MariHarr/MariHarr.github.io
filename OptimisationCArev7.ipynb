{
 "cells": [
  {
   "cell_type": "code",
   "execution_count": 1,
   "metadata": {
    "collapsed": true
   },
   "outputs": [],
   "source": [
    "# B8IT109 Advanced Data Analytics\n",
    "# CA-1b Optimization\n",
    "# Name: Maria Harris\n",
    "\n",
    "# Student Number: 10334546\n",
    "# Date: Monday 05/09/2016"
   ]
  },
  {
   "cell_type": "code",
   "execution_count": 2,
   "metadata": {
    "collapsed": false
   },
   "outputs": [],
   "source": [
    "import pandas as pd\n",
    "import numpy as np\n",
    "import matplotlib.pylab as plt\n",
    "import matplotlib.pyplot as pyt\n",
    "%matplotlib inline\n",
    "import random\n",
    "import scipy\n",
    "from decimal import *"
   ]
  },
  {
   "cell_type": "code",
   "execution_count": 3,
   "metadata": {
    "collapsed": true
   },
   "outputs": [],
   "source": [
    "################################################################\n",
    "# Part A - plot each of the Target Functions                   #\n",
    "# Part B - use RANDOM SEARCH on each of the Target Functions   #\n",
    "################################################################"
   ]
  },
  {
   "cell_type": "code",
   "execution_count": 4,
   "metadata": {
    "collapsed": false
   },
   "outputs": [],
   "source": [
    "#Target function 1, return even spaced numbers \n",
    "\n",
    "def plot_function1(x1,x2):\n",
    "    x = np.linspace(x1,x2,50)\n",
    "    #plot the equation y1=(x-1)**2\n",
    "\n",
    "    y_list=list()\n",
    "    for i in x:\n",
    "        newy = gety(i) \n",
    "        y_list.append(newy)\n",
    "    \n",
    "    newy = y_list\n",
    "    plt.title('Random Sampling for Target Function 1')\n",
    "    plt.xlabel('x')\n",
    "    plt.ylabel('y')\n",
    "    plt.plot(x,y_list,'r')\n",
    "    plt.grid(True)\n",
    "    return\n",
    "\n",
    "def gety(x):\n",
    "        y = (x - 1.0)**2.0\n",
    "        return y"
   ]
  },
  {
   "cell_type": "code",
   "execution_count": 5,
   "metadata": {
    "collapsed": false,
    "scrolled": false
   },
   "outputs": [
    {
     "name": "stdout",
     "output_type": "stream",
     "text": [
      "min y value is 0.382021\n",
      "1\n",
      "min y value is 0.169111\n",
      "3\n",
      "min y value is 0.000997\n",
      "4\n",
      "min y value is 0.000245\n",
      "28\n",
      "min y value is 0.000123\n",
      "32\n",
      "\n",
      "global minimum y is: 0.000123\n",
      "no. of samples: 50\n",
      "x for minimum y is: 0.988923324345\n",
      "end\n"
     ]
    },
    {
     "data": {
      "image/png": "[encoded data removed]",
      "text/plain": [
       "<matplotlib.figure.Figure at 0x989c390>"
      ]
     },
     "metadata": {},
     "output_type": "display_data"
    }
   ],
   "source": [
    "minimum=float('+inf')\n",
    "count=0\n",
    "\n",
    "#pick 50 random samples starting at x=0 between 0 and 2\n",
    "#round the y values and minimum value to 6 decimal places for comparing\n",
    "\n",
    "# green ^ are points tried and blue squares are minimums\n",
    "plot_function1(0,2)\n",
    "\n",
    "while count < 50:  \n",
    "    x1 = random.uniform(0,2)\n",
    "\n",
    "    newy = round(gety(x1),6)\n",
    "    plt.plot(x1,newy,marker = '^',color='g')\n",
    "\n",
    "    if newy < round(minimum,6):\n",
    "        minimum=newy\n",
    "        print 'min y value is', minimum\n",
    "        #store corresponding x-value for that minimum y\n",
    "        x_for_minimum_y = x1\n",
    "        count = count+1\n",
    "        print count\n",
    "        continue\n",
    "    \n",
    "    count=count+1\n",
    "    continue\n",
    "    \n",
    "# after 50 random numbers, print the minimum\n",
    "print '\\nglobal minimum y is:',minimum\n",
    "print 'no. of samples:',count\n",
    "print 'x for minimum y is:',x_for_minimum_y\n",
    "plt.plot(x_for_minimum_y,minimum,'bs',label='minimum y') \n",
    "plt.ylim(-0.2)\n",
    "plt.xlim(-0.2)\n",
    "plt.legend(loc='upper right')\n",
    "print'end'"
   ]
  },
  {
   "cell_type": "code",
   "execution_count": 6,
   "metadata": {
    "collapsed": false
   },
   "outputs": [],
   "source": [
    "#plot Target Function 2, the equation y2=x(x+1.5)(x-1.5)(x-2)\n",
    "def plot_function2(x1,x2):\n",
    "    x = np.linspace(x1,x2,50) \n",
    "    \n",
    "    y_list2=list()\n",
    "    for i in x:\n",
    "        newy2=gety1(i)    \n",
    "        y_list2.append(newy2)\n",
    "    \n",
    "    newy2=y_list2\n",
    "    plt.title('Random Sampling, Target Function 2, minimised starting at x=0')\n",
    "    plt.xlabel('x')\n",
    "    plt.ylabel('y')\n",
    "    plt.plot(x,y_list2,'r')\n",
    "    plt.axis([-2,2.0,-4,4])\n",
    "    plt.grid(True)\n",
    "    return\n",
    "\n",
    "def gety1(x):\n",
    "    y = ((x)*(x + 1.5)*(x-1.5)*(x-2))\n",
    "    return y\n",
    "\n"
   ]
  },
  {
   "cell_type": "code",
   "execution_count": 7,
   "metadata": {
    "collapsed": false
   },
   "outputs": [
    {
     "name": "stdout",
     "output_type": "stream",
     "text": [
      "min y value is -3.77623\n",
      "\n",
      "global minimum y is: -3.77623\n",
      "no.of samples: 26\n"
     ]
    },
    {
     "data": {
      "text/plain": [
       "<matplotlib.legend.Legend at 0x9f0a5c0>"
      ]
     },
     "execution_count": 7,
     "metadata": {},
     "output_type": "execute_result"
    },
    {
     "data": {
      "image/png": "[encoded data removed]",
      "text/plain": [
       "<matplotlib.figure.Figure at 0x6a544e0>"
      ]
     },
     "metadata": {},
     "output_type": "display_data"
    }
   ],
   "source": [
    "plot_function2(-2,3)\n",
    "plt.title('Random Sampling Target Function 2 minimised starting at x=1')\n",
    "\n",
    "plt.axis([-4,3,-4,6])\n",
    "plt.grid(True)\n",
    "\n",
    "minimum=float('+inf')\n",
    "count=0\n",
    "\n",
    "#pick 25 random samples starting first at x=1 between 1 and -2\n",
    "while count<=25:  \n",
    "    x1=random.uniform(1,-2)\n",
    "    newy=round(gety1(x1),6)\n",
    "    plt.plot(x1,newy,marker='^',color='g')\n",
    "    #print 'newy is:',newy\n",
    "    if newy < round(minimum,6):\n",
    "        minimum=newy\n",
    "        print 'min y value is', minimum\n",
    "        x_for_minimum_y = x1\n",
    "        count=count+1\n",
    "        continue\n",
    "    \n",
    "    count=count+1\n",
    "    continue\n",
    "    \n",
    "# after 25 random numbers, print the minimum\n",
    "print '\\nglobal minimum y is:',minimum\n",
    "print 'no.of samples:',count\n",
    "plt.plot(x_for_minimum_y,minimum,'bs',label='minimum y')\n",
    "plt.legend(loc='upper right')"
   ]
  },
  {
   "cell_type": "code",
   "execution_count": 8,
   "metadata": {
    "collapsed": false
   },
   "outputs": [
    {
     "name": "stdout",
     "output_type": "stream",
     "text": [
      "x is: 1.0\n",
      "minimum y for function 1 is: 0.0\n"
     ]
    }
   ],
   "source": [
    "#Optimize using scipy\n",
    "\n",
    "from scipy import optimize\n",
    "def f(x):\n",
    "    return (x-1)**2\n",
    "x_min=optimize.brent(f)\n",
    "print 'x is:',x_min\n",
    "print 'minimum y for function 1 is:',gety(x_min)"
   ]
  },
  {
   "cell_type": "code",
   "execution_count": 9,
   "metadata": {
    "collapsed": false
   },
   "outputs": [
    {
     "name": "stdout",
     "output_type": "stream",
     "text": [
      "x is: -0.946064908201\n",
      "minimum y for function 2 is: 3.78716862693\n"
     ]
    }
   ],
   "source": [
    "from scipy import optimize\n",
    "def f(x):\n",
    "    return (x)*(x + 1.5)*(x-1.5)*(x-2)\n",
    "x_min=optimize.brent(f)\n",
    "print 'x is:',x_min\n",
    "print 'minimum y for function 2 is:',gety(x_min)"
   ]
  },
  {
   "cell_type": "code",
   "execution_count": 11,
   "metadata": {
    "collapsed": false
   },
   "outputs": [
    {
     "name": "stdout",
     "output_type": "stream",
     "text": [
      "first x is 0.85912118048\n",
      "best-y 0.0198468417892\n",
      "\n",
      "X-value is:  1.00762118048\n",
      "Minimum Y-value is: 4.49940663078e-06\n",
      "No. of searches is: 26\n"
     ]
    },
    {
     "data": {
      "text/plain": [
       "<matplotlib.legend.Legend at 0xbf88b70>"
      ]
     },
     "execution_count": 11,
     "metadata": {},
     "output_type": "execute_result"
    },
    {
     "data": {
      "image/png": "[encoded data removed]",
      "text/plain": [
       "<matplotlib.figure.Figure at 0xa64a278>"
      ]
     },
     "metadata": {},
     "output_type": "display_data"
    }
   ],
   "source": [
    "#######################################################\n",
    "# Using Hill climbing on each of the target functions #\n",
    "#######################################################\n",
    "\n",
    "#Plot function 1 between points x=0.5 and x=1\n",
    "plot_function1(.8,1.1)\n",
    "plt.title('Hill climbing for Target Function 1')\n",
    "\n",
    "# random point between x=.5 and x=1\n",
    "x=random.uniform(.5,1)\n",
    "print 'first x is',x\n",
    "#choose a constant number which you want to decrease by each time\n",
    "#in the hill climb\n",
    "decrease=.0055\n",
    "count=0\n",
    "best_y=gety(x)\n",
    "print 'best-y',best_y\n",
    "\n",
    "# search to the left\n",
    "try_x = x - decrease\n",
    "try_y = gety(try_x)\n",
    "\n",
    "if try_y <= best_y:\n",
    "    print 'y val is',try_y\n",
    "\n",
    "    while try_y <= best_y:\n",
    "        best_y = try_y\n",
    "        try_x = try_x-decrease   \n",
    "        print 'new_try_x is',try_x\n",
    "        try_y = gety(try_x)\n",
    "        plt.plot(try_x,try_y,marker='^',color='g')\n",
    "        plt.ylim(-0.02)\n",
    "        count=count+1\n",
    "        continue\n",
    "    print try_x\n",
    "else:\n",
    "#if try_y is bigger than last y then search to the right             \n",
    "    try_x = x + decrease\n",
    "    while True:        \n",
    "        try_y = gety(try_x)  \n",
    "        #print 'y-value is',try_y\n",
    "        if try_y < best_y:\n",
    "            best_y = try_y\n",
    "            try_x = try_x + decrease \n",
    "            count=count+1\n",
    "            #print 'try_x is',try_x\n",
    "            plt.plot(try_x,try_y,marker='^',color='g')\n",
    "            #start the y-axis of graph so you can clearly see the minimum value\n",
    "            plt.ylim(-0.02)\n",
    "            continue\n",
    "        print '\\nX-value is: ',try_x \n",
    "        break        \n",
    "print 'Minimum Y-value is:',best_y\n",
    "print 'No. of searches is:',count\n",
    "plt.plot(try_x,best_y,'bs',label='minimum y')\n",
    "plt.legend(loc='upper right')\n",
    "\n",
    "       "
   ]
  },
  {
   "cell_type": "code",
   "execution_count": 12,
   "metadata": {
    "collapsed": false,
    "scrolled": true
   },
   "outputs": [
    {
     "name": "stdout",
     "output_type": "stream",
     "text": [
      "first x is:  0.0\n",
      "y val is -0.253964349375\n",
      "\n",
      "Minimum Y-value is: -3.77543614938\n",
      "No. of searches is: 17\n"
     ]
    },
    {
     "data": {
      "text/plain": [
       "<matplotlib.legend.Legend at 0xc278d30>"
      ]
     },
     "execution_count": 12,
     "metadata": {},
     "output_type": "execute_result"
    },
    {
     "data": {
      "image/png": "[encoded data removed]",
      "text/plain": [
       "<matplotlib.figure.Figure at 0xbe12e10>"
      ]
     },
     "metadata": {},
     "output_type": "display_data"
    }
   ],
   "source": [
    "\n",
    "plot_function2(-2,2)\n",
    "plt.title('Hill Climbing, Target Function 2, minimized starting at x=0')\n",
    "minimum = float('+inf')\n",
    "count = 0\n",
    "\n",
    "# random point starting at x=0\n",
    "#x = random.uniform(-1.5,0)\n",
    "x=0.0\n",
    "print 'first x is: ',x\n",
    "#choose a constant number which you want to decrease by each time\n",
    "#in the hill climb\n",
    "decrease=.055\n",
    "count=0\n",
    "best_y = gety1(x)\n",
    "\n",
    "# search to the left\n",
    "try_x = x - decrease\n",
    "try_y = gety1(try_x)\n",
    "\n",
    "if try_y <= best_y:\n",
    "    print 'y val is',try_y\n",
    "\n",
    "    while try_y <= best_y:\n",
    "        best_y = try_y\n",
    "        try_x = try_x-decrease   \n",
    "        #print 'new_try_x is',try_x\n",
    "        try_y = gety1(try_x)\n",
    "        plt.plot(try_x,try_y,marker='^',color='g')\n",
    "        plt.ylim(-0.02)\n",
    "        count=count+1\n",
    "        continue\n",
    "else:\n",
    "#if try_y is bigger than last y then search to the right             \n",
    "    try_x = x + decrease\n",
    "    while True:        \n",
    "        try_y = gety1(try_x)  \n",
    "        print 'y-value is',try_y\n",
    "        if try_y < best_y:\n",
    "            best_y = try_y\n",
    "            try_x = try_x + decrease \n",
    "            count=count+1\n",
    "            #print 'try_x is',try_x\n",
    "            plt.plot(try_x,try_y,marker='^',color='g')\n",
    "            #start the y-axis of graph so you can clearly see the minimum value\n",
    "            continue\n",
    "        print '\\nX-value is: ',try_x \n",
    "        break        \n",
    "print '\\nMinimum Y-value is:',best_y\n",
    "print 'No. of searches is:',count\n",
    "plt.plot(try_x,best_y,'bs',label='minimum y')\n",
    "plt.ylim(-4)\n",
    "plt.legend(loc='upper right')\n"
   ]
  },
  {
   "cell_type": "code",
   "execution_count": 13,
   "metadata": {
    "collapsed": false
   },
   "outputs": [
    {
     "name": "stdout",
     "output_type": "stream",
     "text": [
      "first x is:  1.0\n",
      "y-value is 1.13353565063\n",
      "y-value is 1.00558341\n",
      "y-value is 0.868469200625\n",
      "y-value is 0.72473856\n",
      "y-value is 0.577156640625\n",
      "y-value is 0.42870821\n",
      "y-value is 0.282597650625\n",
      "y-value is 0.14224896\n",
      "y-value is 0.011305750625\n",
      "y-value is -0.10636875\n",
      "y-value is -0.206691699375\n",
      "y-value is -0.28536064\n",
      "y-value is -0.337853499375\n",
      "y-value is -0.35942859\n",
      "y-value is -0.345124609375\n",
      "\n",
      "X-value is:  1.825\n",
      "Minimum Y-value is: -0.35942859\n",
      "No. of searches is: 14\n"
     ]
    },
    {
     "data": {
      "text/plain": [
       "<matplotlib.legend.Legend at 0x993f048>"
      ]
     },
     "execution_count": 13,
     "metadata": {},
     "output_type": "execute_result"
    },
    {
     "data": {
      "image/png": "[encoded data removed]",
      "text/plain": [
       "<matplotlib.figure.Figure at 0xa64f1d0>"
      ]
     },
     "metadata": {},
     "output_type": "display_data"
    }
   ],
   "source": [
    "#Target function 2 Hill climbing starting at x=1\n",
    "\n",
    "plot_function2(-2,2)\n",
    "plt.title('Hill Climbing, Target Function 2, minimized starting at x=1')\n",
    "minimum = float('+inf')\n",
    "count = 0\n",
    "\n",
    "# random point starting at x=0\n",
    "#x = random.uniform(1,2)\n",
    "x=1.0\n",
    "print 'first x is: ',x\n",
    "#choose a constant number which you want to decrease by each time\n",
    "#in the hill climb\n",
    "decrease=.055\n",
    "count=0\n",
    "best_y = gety1(x)\n",
    "\n",
    "# search to the left\n",
    "try_x = x - decrease\n",
    "try_y = gety1(try_x)\n",
    "\n",
    "if try_y <= best_y:\n",
    "    print 'y val is',try_y\n",
    "\n",
    "    while try_y <= best_y:\n",
    "        best_y = try_y\n",
    "        try_x = try_x-decrease   \n",
    "        #print 'new_try_x is',try_x\n",
    "        try_y = gety1(try_x)\n",
    "        plt.plot(try_x,try_y,marker='^',color='g')\n",
    "        plt.ylim(-0.02)\n",
    "        count=count+1\n",
    "        continue\n",
    "else:\n",
    "#if try_y is bigger than last y then search to the right             \n",
    "    try_x = x + decrease\n",
    "    while True:        \n",
    "        try_y = gety1(try_x)  \n",
    "        print 'y-value is',try_y\n",
    "        if try_y < best_y:\n",
    "            best_y = try_y\n",
    "            try_x = try_x + decrease \n",
    "            count=count+1\n",
    "            #print 'try_x is',try_x\n",
    "            plt.plot(try_x,try_y,marker='^',color='g')\n",
    "            #start the y-axis of graph so you can clearly see the minimum value\n",
    "            continue\n",
    "        print '\\nX-value is: ',try_x \n",
    "        break        \n",
    "print 'Minimum Y-value is:',best_y\n",
    "print 'No. of searches is:',count\n",
    "plt.plot(try_x,best_y,'bs',label='minimum y')\n",
    "plt.ylim(-4)\n",
    "plt.legend(loc='upper right')"
   ]
  },
  {
   "cell_type": "code",
   "execution_count": 14,
   "metadata": {
    "collapsed": true
   },
   "outputs": [],
   "source": [
    "######################################################\n",
    "#Part C Use Gradient Descent on each target function\n",
    "######################################################"
   ]
  },
  {
   "cell_type": "code",
   "execution_count": 15,
   "metadata": {
    "collapsed": false,
    "scrolled": false
   },
   "outputs": [
    {
     "name": "stdout",
     "output_type": "stream",
     "text": [
      "\n",
      "Local minimum occurs at ( 1.00003402824 , 1.15792089238e-09 )\n",
      "Number of points examined: 43\n"
     ]
    },
    {
     "data": {
      "text/plain": [
       "(0, 0.25)"
      ]
     },
     "execution_count": 15,
     "metadata": {},
     "output_type": "execute_result"
    },
    {
     "data": {
      "image/png": "[encoded data removed]",
      "text/plain": [
       "<matplotlib.figure.Figure at 0xa3fee10>"
      ]
     },
     "metadata": {},
     "output_type": "display_data"
    }
   ],
   "source": [
    "plot_function1(.8,1.5)\n",
    "plt.title('Gradient Descent for Target Function 1')\n",
    "x_old = 0.0\n",
    "x_new = 1.5\n",
    "count=0\n",
    "#set precision near enough to 0, so the loop stops\n",
    "#if the value of x is not changing by more than that\n",
    "#precision, as the slope is nearing 0\n",
    "precision = 0.00001\n",
    "alpha = 0.1\n",
    "\n",
    "#differentiate the target function 1 \n",
    "def f1_derivative(x):\n",
    "    return 2 * x - 2\n",
    "\n",
    "while abs(x_new - x_old) > precision:\n",
    "    x_old = x_new\n",
    "    x_new = x_old - alpha * f1_derivative(x_old)\n",
    "    y = gety(x_new)\n",
    "    count=count+1\n",
    "    plt.plot(x_new,y,'bs',label='minimum y')\n",
    " \n",
    "print '\\nLocal minimum occurs at', '(',x_new,',', y,')'\n",
    "print 'Number of points examined:', count\n",
    "plt.ylim(0)\n",
    "  "
   ]
  },
  {
   "cell_type": "code",
   "execution_count": 16,
   "metadata": {
    "collapsed": false
   },
   "outputs": [
    {
     "name": "stdout",
     "output_type": "stream",
     "text": [
      "\n",
      "x: -0.45\n",
      "y is: -2.25736875\n",
      "\n",
      "x: -0.94455\n",
      "y is: -3.77648515035\n",
      "\n",
      "x: -0.947211232401\n",
      "y is: -3.77649374999\n",
      "\n",
      "x: -0.945192193658\n",
      "y is: -3.77649862208\n",
      "\n",
      "x: -0.946726258652\n",
      "y is: -3.77650146881\n",
      "\n",
      "x: -0.945561967851\n",
      "y is: -3.77650309365\n",
      "\n",
      "x: -0.946446362551\n",
      "y is: -3.7765040377\n",
      "\n",
      "x: -0.945775006389\n",
      "y is: -3.77650457885\n",
      "\n",
      "x: -0.946284890235\n",
      "y is: -3.77650489225\n",
      "\n",
      "x: -0.945897784808\n",
      "y is: -3.77650507234\n",
      "\n",
      "x: -0.946191758942\n",
      "y is: -3.77650517644\n",
      "\n",
      "x: -0.945968557732\n",
      "y is: -3.77650523635\n",
      "\n",
      "x: -0.946138051685\n",
      "y is: -3.77650527094\n",
      "\n",
      "x: -0.946009357605\n",
      "y is: -3.77650529086\n",
      "\n",
      "x: -0.946107082097\n",
      "y is: -3.77650530236\n",
      "\n",
      "x: -0.946032879768\n",
      "y is: -3.77650530898\n",
      "\n",
      "x: -0.946089224718\n",
      "y is: -3.7765053128\n",
      "\n",
      "x: -0.946046441373\n",
      "y is: -3.776505315\n",
      "\n",
      "x: -0.946078928248\n",
      "y is: -3.77650531627\n",
      "\n",
      "x: -0.94605426042\n",
      "y is: -3.77650531701\n",
      "\n",
      "x: -0.94607299145\n",
      "y is: -3.77650531743\n",
      "\n",
      "x: -0.946058768604\n",
      "y is: -3.77650531767\n",
      "\n",
      "x: -0.946069568407\n",
      "y is: -3.77650531781\n",
      "\n",
      "x: -0.94606136788\n",
      "y is: -3.77650531789\n",
      "\n",
      "Local minimum occurs at ( -0.94606136788 , -3.77650531789 )\n",
      "Number of points examined: 24\n"
     ]
    },
    {
     "data": {
      "image/png": "[encoded data removed]",
      "text/plain": [
       "<matplotlib.figure.Figure at 0x9a8e828>"
      ]
     },
     "metadata": {},
     "output_type": "display_data"
    }
   ],
   "source": [
    "#Gradient Descent for Target Function 2, starting at x=0\n",
    "plot_function2(-2,2.0)\n",
    "plt.title('Gradient Descent for Target Function 2, starting at x=0')\n",
    "\n",
    "x_old = 0.5\n",
    "x_new = 0.0\n",
    "count=0\n",
    "#set precision near enough to 0, so the loop stops\n",
    "#if the value of x is not changing by more than that\n",
    "#what that precision is set to, as the slope is nearing 0\n",
    "\n",
    "precision = 0.00001\n",
    "alpha = 0.1\n",
    "\n",
    "#differentiate the target function 2 \n",
    "#if the derivative is positive, then move to the left\n",
    "#decrease x\n",
    "\n",
    "#if the derivative is negative, then move to the right,\n",
    "#increase x\n",
    "def f2_derivative(x):\n",
    "    return (4 *(x**3.0)) - (6*(x**2.0)) - (4.5 * x) + 4.5\n",
    "\n",
    "while abs(x_new - x_old) > precision:\n",
    "    x_old = x_new\n",
    "    x_new = x_old - alpha * f2_derivative(x_old)\n",
    "    print '\\nx:',x_new\n",
    "    y = gety1(x_new)\n",
    "    print 'y is:',y\n",
    "    count = count+1\n",
    "    plt.plot(x_new, y,'bs',label='minimum y')\n",
    "    \n",
    "print '\\nLocal minimum occurs at', '(',x_new,',',y,')'\n",
    "print 'Number of points examined:',count\n",
    "\n",
    "\n"
   ]
  },
  {
   "cell_type": "code",
   "execution_count": 17,
   "metadata": {
    "collapsed": false
   },
   "outputs": [
    {
     "name": "stdout",
     "output_type": "stream",
     "text": [
      "\n",
      "x: 1.2\n",
      "y: 0.7776\n",
      "\n",
      "x: 1.4628\n",
      "y: 0.0866096396211\n",
      "\n",
      "x: 1.70289998354\n",
      "y: -0.328788944637\n",
      "\n",
      "x: 1.78385167962\n",
      "y: -0.359406236185\n",
      "\n",
      "x: 1.77528411898\n",
      "y: -0.359692821959\n",
      "\n",
      "x: 1.7771240896\n",
      "y: -0.359706304725\n",
      "\n",
      "x: 1.77674793219\n",
      "y: -0.359706865842\n",
      "\n",
      "x: 1.77682567592\n",
      "y: -0.359706889831\n",
      "\n",
      "x: 1.77680964349\n",
      "y: -0.359706890851\n",
      "\n",
      "x: 1.77681295124\n",
      "y: -0.359706890895\n",
      "\n",
      "Local minimum occurs at ( 1.77681295124 , -0.359706890895 )\n",
      "Number of point examined: 10\n"
     ]
    },
    {
     "data": {
      "image/png": "[encoded data removed]",
      "text/plain": [
       "<matplotlib.figure.Figure at 0xc5449e8>"
      ]
     },
     "metadata": {},
     "output_type": "display_data"
    }
   ],
   "source": [
    "#Gradient Descent for Target Function 2, starting at x=1\n",
    "plot_function2(-1.5,2.5)\n",
    "plt.title('Gradient Descent for Target Function 2, starting at x=1')\n",
    "\n",
    "x_old = 0.5\n",
    "x_new = 1.0\n",
    "count=0\n",
    "\n",
    "#set precision near enough to 0, so the loop stops\n",
    "#if the value of x is not changing by more than that\n",
    "#what that precision is set to, as the slope is nearing 0\n",
    "\n",
    "precision = 0.00001\n",
    "alpha = 0.1\n",
    "\n",
    "#differentiate the target function 2 \n",
    "#if the derivative is positive, then move to the left\n",
    "#decrease x\n",
    "\n",
    "#if the derivative is negative, then move to the right,\n",
    "#increase x\n",
    "def f2_derivative(x):\n",
    "    return (4 *(x**3.0)) - (6*(x**2.0)) - (4.5 * x) + 4.5\n",
    "\n",
    "while abs(x_new - x_old) > precision:\n",
    "    x_old = x_new\n",
    "    x_new = x_old - (alpha * f2_derivative(x_old))\n",
    "    print '\\nx:',x_new\n",
    "    y = gety1(x_new)\n",
    "    print 'y:',y\n",
    "    count=count+1\n",
    "    plt.plot(x_new,y,'bs')\n",
    "    \n",
    "print '\\nLocal minimum occurs at', '(',x_new,',',y,')'\n",
    "print 'Number of point examined:',count"
   ]
  },
  {
   "cell_type": "code",
   "execution_count": 18,
   "metadata": {
    "collapsed": true
   },
   "outputs": [],
   "source": [
    "############################################################\n",
    "#Part D Use Simulated Annealing on each function\n",
    "############################################################"
   ]
  },
  {
   "cell_type": "code",
   "execution_count": 21,
   "metadata": {
    "collapsed": false
   },
   "outputs": [
    {
     "name": "stdout",
     "output_type": "stream",
     "text": [
      "\n",
      "global minimumis: (1.0008915659038529, 7.948897609129752e-07)\n"
     ]
    },
    {
     "data": {
      "image/png": "[encoded data removed]",
      "text/plain": [
       "<matplotlib.figure.Figure at 0x1840df28>"
      ]
     },
     "metadata": {},
     "output_type": "display_data"
    }
   ],
   "source": [
    "plot_function1(.5,1.5)\n",
    "plt.title('Simulated Annealing for Target Function 1')\n",
    "\n",
    "\n",
    "def acceptance_probability(old_y,new_y,temp):\n",
    "    acc_prob = 2.71828*((old_y - new_y)/temp)\n",
    "    return acc_prob\n",
    "\n",
    "def find_a_neighbor():\n",
    "    x2 = random.uniform(0,2)\n",
    "    return x2\n",
    "\n",
    "def cost(x2):\n",
    "    newy2 = round(gety(x2),6)\n",
    "    #plt.plot(x2,newy,marker = '^',color='g')\n",
    "    return newy2\n",
    "\n",
    "def anneal(solution):\n",
    "    old_cost_y = gety(solution)\n",
    "    temp = 1.0\n",
    "    temp_min = 0.00001\n",
    "    alpha = 0.9\n",
    "    #set the temperature to 1.0 and decrease it at the end of each iteration\n",
    "    #by multiplying it by alpha, alpha is a value between 0.8 and 0.99\n",
    "\n",
    "    while temp > temp_min:\n",
    "        i = 1\n",
    "        while i <= 50:\n",
    "            new_x_solution = find_a_neighbor()\n",
    "            new_cost_y = gety(new_x_solution)\n",
    "            plt.plot(new_x_solution,new_cost_y,marker = '^',color='g')\n",
    "            \n",
    "            # generate a number for comparison later\n",
    "            generated_number = random.uniform(0,1)\n",
    "            \n",
    "            #calculate acceptance probability\n",
    "            acc_prob = acceptance_probability(old_cost_y,new_cost_y,temp)\n",
    " \n",
    " \n",
    "#if the acceptance probability is larger than the generated random\n",
    "#number between 0 and 1, then accept the new x value\n",
    "            if acc_prob > generated_number:\n",
    "                solution = new_x_solution\n",
    "                old_cost_y = new_cost_y\n",
    "            i = i + 1\n",
    "    \n",
    "        temp = temp * alpha \n",
    "    #decrease temp by multiplying it by alpha after every 50th iteration\n",
    "    \n",
    "    return solution,old_cost_y\n",
    "    \n",
    "x1 = random.uniform(0,2)\n",
    "minimum = anneal(x1)\n",
    "\n",
    "#plt.plot(x_new,y,'bs')\n",
    "\n",
    "    \n",
    "print '\\nglobal minimumis:',minimum\n"
   ]
  },
  {
   "cell_type": "code",
   "execution_count": 23,
   "metadata": {
    "collapsed": false
   },
   "outputs": [
    {
     "name": "stdout",
     "output_type": "stream",
     "text": [
      "\n",
      "global minimumis: (-0.9484385164158622, -3.7764556802675786)\n"
     ]
    },
    {
     "data": {
      "image/png": "[encoded data removed]",
      "text/plain": [
       "<matplotlib.figure.Figure at 0x1807af60>"
      ]
     },
     "metadata": {},
     "output_type": "display_data"
    }
   ],
   "source": [
    "#########################################################\n",
    "# Simulated Annealing for Target Function 2             #\n",
    "#########################################################\n",
    "\n",
    "plot_function2(-2,2)\n",
    "plt.title('Simulated Annealing for Target Function 2')\n",
    "\n",
    "\n",
    "def acceptance_probability(old_y,new_y,temp):\n",
    "    acc_prob = 2.71828*((old_y - new_y)/temp)\n",
    "    return acc_prob\n",
    "\n",
    "def find_a_neighbor():\n",
    "    x2 = random.uniform(-1.5,2)\n",
    "    return x2\n",
    "\n",
    "def cost(x2):\n",
    "    newy2 = round(gety1(x2),6)\n",
    "    return newy2\n",
    "\n",
    "def anneal(solution):\n",
    "    old_cost_y = gety1(solution)\n",
    "    temp = 1.0\n",
    "    temp_min = 0.00001\n",
    "    alpha = 0.9\n",
    "    #set the temperature to 1.0 and decrease it at the end of each iteration\n",
    "    #by multiplying it by alpha, alpha is a value between 0.8 and 0.99\n",
    "\n",
    "    while temp > temp_min:\n",
    "        i = 1\n",
    "        while i <= 50:\n",
    "            new_x_solution = find_a_neighbor()\n",
    "            new_cost_y = gety1(new_x_solution)\n",
    "            plt.plot(new_x_solution,new_cost_y,marker = '^',color='b')\n",
    "            \n",
    "            # generate a number for comparison later\n",
    "            generated_number = random.uniform(0,1)\n",
    "            \n",
    "            #calculate acceptance probability\n",
    "            acc_prob = acceptance_probability(old_cost_y,new_cost_y,temp)\n",
    " \n",
    " \n",
    "#if the acceptance probability is larger than the generated random\n",
    "#number between 0 and 1, then accept the new x value\n",
    "            if acc_prob > generated_number:\n",
    "                solution = new_x_solution\n",
    "                old_cost_y = new_cost_y\n",
    "            i = i + 1\n",
    "    \n",
    "        temp = temp * alpha \n",
    "    #decrease temp by multiplying it by alpha after every 50th iteration\n",
    "    \n",
    "    return solution,old_cost_y\n",
    "    \n",
    "x1 = random.uniform(-1.5,2)\n",
    "minimum = anneal(x1)\n",
    "\n",
    "    \n",
    "print '\\nglobal minimumis:',minimum\n"
   ]
  },
  {
   "cell_type": "code",
   "execution_count": null,
   "metadata": {
    "collapsed": true
   },
   "outputs": [],
   "source": []
  }
 ],
 "metadata": {
  "anaconda-cloud": {},
  "kernelspec": {
   "display_name": "Python [Root]",
   "language": "python",
   "name": "Python [Root]"
  },
  "language_info": {
   "codemirror_mode": {
    "name": "ipython",
    "version": 2
   },
   "file_extension": ".py",
   "mimetype": "text/x-python",
   "name": "python",
   "nbconvert_exporter": "python",
   "pygments_lexer": "ipython2",
   "version": "2.7.12"
  }
 },
 "nbformat": 4,
 "nbformat_minor": 0
}
